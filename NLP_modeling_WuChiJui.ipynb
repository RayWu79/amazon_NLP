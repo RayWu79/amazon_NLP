{
 "cells": [
  {
   "cell_type": "markdown",
   "metadata": {
    "id": "WNFShA4dAvSf"
   },
   "source": [
    "# Making predictions over amazon recommendation dataset\n",
    "\n",
    "## Predictions\n",
    "The purpose of this analysis is to build a predictive model that will allow us to predict whether a recommendation will be positive or negative. In this analysis, we will not focus on the scores, but only on the positive/negative sentiment of the recommendations.\n",
    "\n",
    "To do this, we will build a term-document correlation matrix using term frequency and inverse document frequency thinking. When the data is ready, we load it into the prediction algorithm. Finally, we hope to find the \"best\" model to predict recommendation sentiment.\n",
    "\n",
    "## Loading the data\n",
    "As we only want to get the global sentiment of the recommendations (positive or negative). If the score id above 3, then the recommendation wil be set to \"postive\". Otherwise, it will be set to \"negative\". "
   ]
  },
  {
   "cell_type": "code",
   "execution_count": 3,
   "metadata": {
    "id": "dQlZpYIJAvSg"
   },
   "outputs": [],
   "source": [
    "import pandas as pd\n",
    "import numpy as np\n",
    "import pickle"
   ]
  },
  {
   "cell_type": "code",
   "execution_count": 2,
   "metadata": {
    "colab": {
     "base_uri": "https://localhost:8080/",
     "height": 395
    },
    "id": "_ldCukY0AvSi",
    "outputId": "fda490b2-ed06-4274-90e9-d556c26f01f4"
   },
   "outputs": [],
   "source": [
    "# Read the dataset csv.\n",
    "df = pd.read_csv('archive/Reviews.csv')"
   ]
  },
  {
   "cell_type": "code",
   "execution_count": 3,
   "metadata": {
    "colab": {
     "base_uri": "https://localhost:8080/",
     "height": 204
    },
    "id": "8NedY5aGAvSk",
    "outputId": "3aa2302a-b32c-4ab6-fd9b-da3f7f8f4247"
   },
   "outputs": [
    {
     "data": {
      "text/html": [
       "<div>\n",
       "<style scoped>\n",
       "    .dataframe tbody tr th:only-of-type {\n",
       "        vertical-align: middle;\n",
       "    }\n",
       "\n",
       "    .dataframe tbody tr th {\n",
       "        vertical-align: top;\n",
       "    }\n",
       "\n",
       "    .dataframe thead th {\n",
       "        text-align: right;\n",
       "    }\n",
       "</style>\n",
       "<table border=\"1\" class=\"dataframe\">\n",
       "  <thead>\n",
       "    <tr style=\"text-align: right;\">\n",
       "      <th></th>\n",
       "      <th>Id</th>\n",
       "      <th>ProductId</th>\n",
       "      <th>UserId</th>\n",
       "      <th>ProfileName</th>\n",
       "      <th>HelpfulnessNumerator</th>\n",
       "      <th>HelpfulnessDenominator</th>\n",
       "      <th>Score</th>\n",
       "      <th>Time</th>\n",
       "      <th>Summary</th>\n",
       "      <th>Text</th>\n",
       "    </tr>\n",
       "  </thead>\n",
       "  <tbody>\n",
       "    <tr>\n",
       "      <th>0</th>\n",
       "      <td>1</td>\n",
       "      <td>B001E4KFG0</td>\n",
       "      <td>A3SGXH7AUHU8GW</td>\n",
       "      <td>delmartian</td>\n",
       "      <td>1</td>\n",
       "      <td>1</td>\n",
       "      <td>5</td>\n",
       "      <td>1303862400</td>\n",
       "      <td>Good Quality Dog Food</td>\n",
       "      <td>I have bought several of the Vitality canned d...</td>\n",
       "    </tr>\n",
       "    <tr>\n",
       "      <th>1</th>\n",
       "      <td>2</td>\n",
       "      <td>B00813GRG4</td>\n",
       "      <td>A1D87F6ZCVE5NK</td>\n",
       "      <td>dll pa</td>\n",
       "      <td>0</td>\n",
       "      <td>0</td>\n",
       "      <td>1</td>\n",
       "      <td>1346976000</td>\n",
       "      <td>Not as Advertised</td>\n",
       "      <td>Product arrived labeled as Jumbo Salted Peanut...</td>\n",
       "    </tr>\n",
       "    <tr>\n",
       "      <th>2</th>\n",
       "      <td>3</td>\n",
       "      <td>B000LQOCH0</td>\n",
       "      <td>ABXLMWJIXXAIN</td>\n",
       "      <td>Natalia Corres \"Natalia Corres\"</td>\n",
       "      <td>1</td>\n",
       "      <td>1</td>\n",
       "      <td>4</td>\n",
       "      <td>1219017600</td>\n",
       "      <td>\"Delight\" says it all</td>\n",
       "      <td>This is a confection that has been around a fe...</td>\n",
       "    </tr>\n",
       "    <tr>\n",
       "      <th>3</th>\n",
       "      <td>4</td>\n",
       "      <td>B000UA0QIQ</td>\n",
       "      <td>A395BORC6FGVXV</td>\n",
       "      <td>Karl</td>\n",
       "      <td>3</td>\n",
       "      <td>3</td>\n",
       "      <td>2</td>\n",
       "      <td>1307923200</td>\n",
       "      <td>Cough Medicine</td>\n",
       "      <td>If you are looking for the secret ingredient i...</td>\n",
       "    </tr>\n",
       "    <tr>\n",
       "      <th>4</th>\n",
       "      <td>5</td>\n",
       "      <td>B006K2ZZ7K</td>\n",
       "      <td>A1UQRSCLF8GW1T</td>\n",
       "      <td>Michael D. Bigham \"M. Wassir\"</td>\n",
       "      <td>0</td>\n",
       "      <td>0</td>\n",
       "      <td>5</td>\n",
       "      <td>1350777600</td>\n",
       "      <td>Great taffy</td>\n",
       "      <td>Great taffy at a great price.  There was a wid...</td>\n",
       "    </tr>\n",
       "  </tbody>\n",
       "</table>\n",
       "</div>"
      ],
      "text/plain": [
       "   Id   ProductId          UserId                      ProfileName  \\\n",
       "0   1  B001E4KFG0  A3SGXH7AUHU8GW                       delmartian   \n",
       "1   2  B00813GRG4  A1D87F6ZCVE5NK                           dll pa   \n",
       "2   3  B000LQOCH0   ABXLMWJIXXAIN  Natalia Corres \"Natalia Corres\"   \n",
       "3   4  B000UA0QIQ  A395BORC6FGVXV                             Karl   \n",
       "4   5  B006K2ZZ7K  A1UQRSCLF8GW1T    Michael D. Bigham \"M. Wassir\"   \n",
       "\n",
       "   HelpfulnessNumerator  HelpfulnessDenominator  Score        Time  \\\n",
       "0                     1                       1      5  1303862400   \n",
       "1                     0                       0      1  1346976000   \n",
       "2                     1                       1      4  1219017600   \n",
       "3                     3                       3      2  1307923200   \n",
       "4                     0                       0      5  1350777600   \n",
       "\n",
       "                 Summary                                               Text  \n",
       "0  Good Quality Dog Food  I have bought several of the Vitality canned d...  \n",
       "1      Not as Advertised  Product arrived labeled as Jumbo Salted Peanut...  \n",
       "2  \"Delight\" says it all  This is a confection that has been around a fe...  \n",
       "3         Cough Medicine  If you are looking for the secret ingredient i...  \n",
       "4            Great taffy  Great taffy at a great price.  There was a wid...  "
      ]
     },
     "execution_count": 3,
     "metadata": {},
     "output_type": "execute_result"
    }
   ],
   "source": [
    "# check the first five data\n",
    "df.head()"
   ]
  },
  {
   "cell_type": "code",
   "execution_count": 4,
   "metadata": {},
   "outputs": [
    {
     "name": "stdout",
     "output_type": "stream",
     "text": [
      "<class 'pandas.core.frame.DataFrame'>\n",
      "RangeIndex: 568454 entries, 0 to 568453\n",
      "Data columns (total 10 columns):\n",
      " #   Column                  Non-Null Count   Dtype \n",
      "---  ------                  --------------   ----- \n",
      " 0   Id                      568454 non-null  int64 \n",
      " 1   ProductId               568454 non-null  object\n",
      " 2   UserId                  568454 non-null  object\n",
      " 3   ProfileName             568438 non-null  object\n",
      " 4   HelpfulnessNumerator    568454 non-null  int64 \n",
      " 5   HelpfulnessDenominator  568454 non-null  int64 \n",
      " 6   Score                   568454 non-null  int64 \n",
      " 7   Time                    568454 non-null  int64 \n",
      " 8   Summary                 568427 non-null  object\n",
      " 9   Text                    568454 non-null  object\n",
      "dtypes: int64(5), object(5)\n",
      "memory usage: 43.4+ MB\n"
     ]
    }
   ],
   "source": [
    "df.info()"
   ]
  },
  {
   "cell_type": "code",
   "execution_count": 5,
   "metadata": {
    "id": "aykD_nXMAvSn",
    "outputId": "0bb5b269-7f67-4d5f-d612-33b96831b8af",
    "scrolled": true
   },
   "outputs": [
    {
     "data": {
      "text/plain": [
       "(568454, 10)"
      ]
     },
     "execution_count": 5,
     "metadata": {},
     "output_type": "execute_result"
    }
   ],
   "source": [
    "df.shape # data shape"
   ]
  },
  {
   "cell_type": "code",
   "execution_count": 6,
   "metadata": {
    "id": "WGUDkk49AvSp",
    "outputId": "9a8321fe-3a9a-429a-b559-83b0fae9299d",
    "scrolled": false
   },
   "outputs": [
    {
     "data": {
      "text/plain": [
       "Id                        568454\n",
       "ProductId                  74258\n",
       "UserId                    256059\n",
       "ProfileName               218416\n",
       "HelpfulnessNumerator         231\n",
       "HelpfulnessDenominator       234\n",
       "Score                          5\n",
       "Time                        3168\n",
       "Summary                   295742\n",
       "Text                      393579\n",
       "dtype: int64"
      ]
     },
     "execution_count": 6,
     "metadata": {},
     "output_type": "execute_result"
    }
   ],
   "source": [
    "df.nunique() # check num of unique items per column"
   ]
  },
  {
   "cell_type": "code",
   "execution_count": 7,
   "metadata": {
    "id": "0zx8KKFRAvSs",
    "outputId": "c350bd6c-5dbe-4f4c-baa9-fc3af19f8f6a"
   },
   "outputs": [
    {
     "data": {
      "text/plain": [
       "Index(['Id', 'ProductId', 'UserId', 'ProfileName', 'HelpfulnessNumerator',\n",
       "       'HelpfulnessDenominator', 'Score', 'Time', 'Summary', 'Text'],\n",
       "      dtype='object')"
      ]
     },
     "execution_count": 7,
     "metadata": {},
     "output_type": "execute_result"
    }
   ],
   "source": [
    "df.columns"
   ]
  },
  {
   "cell_type": "code",
   "execution_count": 8,
   "metadata": {
    "id": "kwsXomz6AvSu"
   },
   "outputs": [],
   "source": [
    "# rename columns HelpfulnessNumerator and HelpfulnessDenominator\n",
    "df.columns = [\"Id\", \"ProductId\", \"UserId\", \"ProfileName\", \"VotesHelpful\",\n",
    "              \"VotesTotal\", \"Score\", \"Time\", \"Summary\", \"Text\"]"
   ]
  },
  {
   "cell_type": "code",
   "execution_count": 9,
   "metadata": {},
   "outputs": [
    {
     "data": {
      "text/html": [
       "<div>\n",
       "<style scoped>\n",
       "    .dataframe tbody tr th:only-of-type {\n",
       "        vertical-align: middle;\n",
       "    }\n",
       "\n",
       "    .dataframe tbody tr th {\n",
       "        vertical-align: top;\n",
       "    }\n",
       "\n",
       "    .dataframe thead th {\n",
       "        text-align: right;\n",
       "    }\n",
       "</style>\n",
       "<table border=\"1\" class=\"dataframe\">\n",
       "  <thead>\n",
       "    <tr style=\"text-align: right;\">\n",
       "      <th></th>\n",
       "      <th>Id</th>\n",
       "      <th>ProductId</th>\n",
       "      <th>UserId</th>\n",
       "      <th>ProfileName</th>\n",
       "      <th>VotesHelpful</th>\n",
       "      <th>VotesTotal</th>\n",
       "      <th>Score</th>\n",
       "      <th>Time</th>\n",
       "      <th>Summary</th>\n",
       "      <th>Text</th>\n",
       "    </tr>\n",
       "  </thead>\n",
       "  <tbody>\n",
       "    <tr>\n",
       "      <th>0</th>\n",
       "      <td>1</td>\n",
       "      <td>B001E4KFG0</td>\n",
       "      <td>A3SGXH7AUHU8GW</td>\n",
       "      <td>delmartian</td>\n",
       "      <td>1</td>\n",
       "      <td>1</td>\n",
       "      <td>5</td>\n",
       "      <td>1303862400</td>\n",
       "      <td>Good Quality Dog Food</td>\n",
       "      <td>I have bought several of the Vitality canned d...</td>\n",
       "    </tr>\n",
       "    <tr>\n",
       "      <th>1</th>\n",
       "      <td>2</td>\n",
       "      <td>B00813GRG4</td>\n",
       "      <td>A1D87F6ZCVE5NK</td>\n",
       "      <td>dll pa</td>\n",
       "      <td>0</td>\n",
       "      <td>0</td>\n",
       "      <td>1</td>\n",
       "      <td>1346976000</td>\n",
       "      <td>Not as Advertised</td>\n",
       "      <td>Product arrived labeled as Jumbo Salted Peanut...</td>\n",
       "    </tr>\n",
       "    <tr>\n",
       "      <th>2</th>\n",
       "      <td>3</td>\n",
       "      <td>B000LQOCH0</td>\n",
       "      <td>ABXLMWJIXXAIN</td>\n",
       "      <td>Natalia Corres \"Natalia Corres\"</td>\n",
       "      <td>1</td>\n",
       "      <td>1</td>\n",
       "      <td>4</td>\n",
       "      <td>1219017600</td>\n",
       "      <td>\"Delight\" says it all</td>\n",
       "      <td>This is a confection that has been around a fe...</td>\n",
       "    </tr>\n",
       "    <tr>\n",
       "      <th>3</th>\n",
       "      <td>4</td>\n",
       "      <td>B000UA0QIQ</td>\n",
       "      <td>A395BORC6FGVXV</td>\n",
       "      <td>Karl</td>\n",
       "      <td>3</td>\n",
       "      <td>3</td>\n",
       "      <td>2</td>\n",
       "      <td>1307923200</td>\n",
       "      <td>Cough Medicine</td>\n",
       "      <td>If you are looking for the secret ingredient i...</td>\n",
       "    </tr>\n",
       "    <tr>\n",
       "      <th>4</th>\n",
       "      <td>5</td>\n",
       "      <td>B006K2ZZ7K</td>\n",
       "      <td>A1UQRSCLF8GW1T</td>\n",
       "      <td>Michael D. Bigham \"M. Wassir\"</td>\n",
       "      <td>0</td>\n",
       "      <td>0</td>\n",
       "      <td>5</td>\n",
       "      <td>1350777600</td>\n",
       "      <td>Great taffy</td>\n",
       "      <td>Great taffy at a great price.  There was a wid...</td>\n",
       "    </tr>\n",
       "  </tbody>\n",
       "</table>\n",
       "</div>"
      ],
      "text/plain": [
       "   Id   ProductId          UserId                      ProfileName  \\\n",
       "0   1  B001E4KFG0  A3SGXH7AUHU8GW                       delmartian   \n",
       "1   2  B00813GRG4  A1D87F6ZCVE5NK                           dll pa   \n",
       "2   3  B000LQOCH0   ABXLMWJIXXAIN  Natalia Corres \"Natalia Corres\"   \n",
       "3   4  B000UA0QIQ  A395BORC6FGVXV                             Karl   \n",
       "4   5  B006K2ZZ7K  A1UQRSCLF8GW1T    Michael D. Bigham \"M. Wassir\"   \n",
       "\n",
       "   VotesHelpful  VotesTotal  Score        Time                Summary  \\\n",
       "0             1           1      5  1303862400  Good Quality Dog Food   \n",
       "1             0           0      1  1346976000      Not as Advertised   \n",
       "2             1           1      4  1219017600  \"Delight\" says it all   \n",
       "3             3           3      2  1307923200         Cough Medicine   \n",
       "4             0           0      5  1350777600            Great taffy   \n",
       "\n",
       "                                                Text  \n",
       "0  I have bought several of the Vitality canned d...  \n",
       "1  Product arrived labeled as Jumbo Salted Peanut...  \n",
       "2  This is a confection that has been around a fe...  \n",
       "3  If you are looking for the secret ingredient i...  \n",
       "4  Great taffy at a great price.  There was a wid...  "
      ]
     },
     "execution_count": 9,
     "metadata": {},
     "output_type": "execute_result"
    }
   ],
   "source": [
    "df.head()"
   ]
  },
  {
   "cell_type": "markdown",
   "metadata": {
    "id": "IKB92872AvSx"
   },
   "source": [
    "Let's add the **Sentiment** column that turns the numeric score into either *positive* or *negative*.\n",
    "\n",
    "Similarly, the **Usefulness** column turns the number of votes into a boolean."
   ]
  },
  {
   "cell_type": "code",
   "execution_count": 10,
   "metadata": {
    "id": "LfiupeaiAvSx",
    "outputId": "c5af19e2-2bbe-4f48-bc2b-d9375bf754c4"
   },
   "outputs": [
    {
     "data": {
      "text/html": [
       "<div>\n",
       "<style scoped>\n",
       "    .dataframe tbody tr th:only-of-type {\n",
       "        vertical-align: middle;\n",
       "    }\n",
       "\n",
       "    .dataframe tbody tr th {\n",
       "        vertical-align: top;\n",
       "    }\n",
       "\n",
       "    .dataframe thead th {\n",
       "        text-align: right;\n",
       "    }\n",
       "</style>\n",
       "<table border=\"1\" class=\"dataframe\">\n",
       "  <thead>\n",
       "    <tr style=\"text-align: right;\">\n",
       "      <th></th>\n",
       "      <th>Id</th>\n",
       "      <th>ProductId</th>\n",
       "      <th>UserId</th>\n",
       "      <th>ProfileName</th>\n",
       "      <th>VotesHelpful</th>\n",
       "      <th>VotesTotal</th>\n",
       "      <th>Score</th>\n",
       "      <th>Time</th>\n",
       "      <th>Summary</th>\n",
       "      <th>Text</th>\n",
       "      <th>Sentiment</th>\n",
       "    </tr>\n",
       "  </thead>\n",
       "  <tbody>\n",
       "    <tr>\n",
       "      <th>0</th>\n",
       "      <td>1</td>\n",
       "      <td>B001E4KFG0</td>\n",
       "      <td>A3SGXH7AUHU8GW</td>\n",
       "      <td>delmartian</td>\n",
       "      <td>1</td>\n",
       "      <td>1</td>\n",
       "      <td>5</td>\n",
       "      <td>1303862400</td>\n",
       "      <td>Good Quality Dog Food</td>\n",
       "      <td>I have bought several of the Vitality canned d...</td>\n",
       "      <td>positive</td>\n",
       "    </tr>\n",
       "    <tr>\n",
       "      <th>1</th>\n",
       "      <td>2</td>\n",
       "      <td>B00813GRG4</td>\n",
       "      <td>A1D87F6ZCVE5NK</td>\n",
       "      <td>dll pa</td>\n",
       "      <td>0</td>\n",
       "      <td>0</td>\n",
       "      <td>1</td>\n",
       "      <td>1346976000</td>\n",
       "      <td>Not as Advertised</td>\n",
       "      <td>Product arrived labeled as Jumbo Salted Peanut...</td>\n",
       "      <td>negative</td>\n",
       "    </tr>\n",
       "    <tr>\n",
       "      <th>2</th>\n",
       "      <td>3</td>\n",
       "      <td>B000LQOCH0</td>\n",
       "      <td>ABXLMWJIXXAIN</td>\n",
       "      <td>Natalia Corres \"Natalia Corres\"</td>\n",
       "      <td>1</td>\n",
       "      <td>1</td>\n",
       "      <td>4</td>\n",
       "      <td>1219017600</td>\n",
       "      <td>\"Delight\" says it all</td>\n",
       "      <td>This is a confection that has been around a fe...</td>\n",
       "      <td>positive</td>\n",
       "    </tr>\n",
       "    <tr>\n",
       "      <th>3</th>\n",
       "      <td>4</td>\n",
       "      <td>B000UA0QIQ</td>\n",
       "      <td>A395BORC6FGVXV</td>\n",
       "      <td>Karl</td>\n",
       "      <td>3</td>\n",
       "      <td>3</td>\n",
       "      <td>2</td>\n",
       "      <td>1307923200</td>\n",
       "      <td>Cough Medicine</td>\n",
       "      <td>If you are looking for the secret ingredient i...</td>\n",
       "      <td>negative</td>\n",
       "    </tr>\n",
       "    <tr>\n",
       "      <th>4</th>\n",
       "      <td>5</td>\n",
       "      <td>B006K2ZZ7K</td>\n",
       "      <td>A1UQRSCLF8GW1T</td>\n",
       "      <td>Michael D. Bigham \"M. Wassir\"</td>\n",
       "      <td>0</td>\n",
       "      <td>0</td>\n",
       "      <td>5</td>\n",
       "      <td>1350777600</td>\n",
       "      <td>Great taffy</td>\n",
       "      <td>Great taffy at a great price.  There was a wid...</td>\n",
       "      <td>positive</td>\n",
       "    </tr>\n",
       "  </tbody>\n",
       "</table>\n",
       "</div>"
      ],
      "text/plain": [
       "   Id   ProductId          UserId                      ProfileName  \\\n",
       "0   1  B001E4KFG0  A3SGXH7AUHU8GW                       delmartian   \n",
       "1   2  B00813GRG4  A1D87F6ZCVE5NK                           dll pa   \n",
       "2   3  B000LQOCH0   ABXLMWJIXXAIN  Natalia Corres \"Natalia Corres\"   \n",
       "3   4  B000UA0QIQ  A395BORC6FGVXV                             Karl   \n",
       "4   5  B006K2ZZ7K  A1UQRSCLF8GW1T    Michael D. Bigham \"M. Wassir\"   \n",
       "\n",
       "   VotesHelpful  VotesTotal  Score        Time                Summary  \\\n",
       "0             1           1      5  1303862400  Good Quality Dog Food   \n",
       "1             0           0      1  1346976000      Not as Advertised   \n",
       "2             1           1      4  1219017600  \"Delight\" says it all   \n",
       "3             3           3      2  1307923200         Cough Medicine   \n",
       "4             0           0      5  1350777600            Great taffy   \n",
       "\n",
       "                                                Text Sentiment  \n",
       "0  I have bought several of the Vitality canned d...  positive  \n",
       "1  Product arrived labeled as Jumbo Salted Peanut...  negative  \n",
       "2  This is a confection that has been around a fe...  positive  \n",
       "3  If you are looking for the secret ingredient i...  negative  \n",
       "4  Great taffy at a great price.  There was a wid...  positive  "
      ]
     },
     "execution_count": 10,
     "metadata": {},
     "output_type": "execute_result"
    }
   ],
   "source": [
    "df[\"Sentiment\"] = df[\"Score\"].apply(lambda score: \"positive\" if score > 3 else \"negative\")\n",
    "df.head(5)"
   ]
  },
  {
   "cell_type": "code",
   "execution_count": 11,
   "metadata": {
    "id": "GDaD2BeBAvSz",
    "outputId": "2a26f929-6246-4e3e-8d6f-a8a42c52c017",
    "scrolled": true
   },
   "outputs": [
    {
     "name": "stdout",
     "output_type": "stream",
     "text": [
      "positive    443777\n",
      "negative    124677\n",
      "Name: Sentiment, dtype: int64\n"
     ]
    }
   ],
   "source": [
    "# check some statistics\n",
    "print(df['Sentiment'].value_counts())"
   ]
  },
  {
   "cell_type": "markdown",
   "metadata": {},
   "source": [
    "Positive data : Negative data = 3.56 : 1, indicating that the data is somewhat imbalanced."
   ]
  },
  {
   "cell_type": "markdown",
   "metadata": {
    "id": "s64QzNPXAvS1"
   },
   "source": [
    "Select subcolumns we need:"
   ]
  },
  {
   "cell_type": "code",
   "execution_count": 12,
   "metadata": {
    "id": "xtQYk3w4AvS2"
   },
   "outputs": [],
   "source": [
    "df = df[[\"Score\", \"Sentiment\", \"Summary\", \"Text\"]]"
   ]
  },
  {
   "cell_type": "markdown",
   "metadata": {
    "id": "n-gCAJ76AvS4"
   },
   "source": [
    "Let's have a look at some 5s:"
   ]
  },
  {
   "cell_type": "code",
   "execution_count": 13,
   "metadata": {
    "id": "Yq07_g8eAvS4",
    "outputId": "d674e215-ba2f-48da-fb66-5314e6d51846"
   },
   "outputs": [
    {
     "data": {
      "text/html": [
       "<div>\n",
       "<style scoped>\n",
       "    .dataframe tbody tr th:only-of-type {\n",
       "        vertical-align: middle;\n",
       "    }\n",
       "\n",
       "    .dataframe tbody tr th {\n",
       "        vertical-align: top;\n",
       "    }\n",
       "\n",
       "    .dataframe thead th {\n",
       "        text-align: right;\n",
       "    }\n",
       "</style>\n",
       "<table border=\"1\" class=\"dataframe\">\n",
       "  <thead>\n",
       "    <tr style=\"text-align: right;\">\n",
       "      <th></th>\n",
       "      <th>Score</th>\n",
       "      <th>Sentiment</th>\n",
       "      <th>Summary</th>\n",
       "      <th>Text</th>\n",
       "    </tr>\n",
       "  </thead>\n",
       "  <tbody>\n",
       "    <tr>\n",
       "      <th>0</th>\n",
       "      <td>5</td>\n",
       "      <td>positive</td>\n",
       "      <td>Good Quality Dog Food</td>\n",
       "      <td>I have bought several of the Vitality canned d...</td>\n",
       "    </tr>\n",
       "    <tr>\n",
       "      <th>4</th>\n",
       "      <td>5</td>\n",
       "      <td>positive</td>\n",
       "      <td>Great taffy</td>\n",
       "      <td>Great taffy at a great price.  There was a wid...</td>\n",
       "    </tr>\n",
       "    <tr>\n",
       "      <th>6</th>\n",
       "      <td>5</td>\n",
       "      <td>positive</td>\n",
       "      <td>Great!  Just as good as the expensive brands!</td>\n",
       "      <td>This saltwater taffy had great flavors and was...</td>\n",
       "    </tr>\n",
       "    <tr>\n",
       "      <th>7</th>\n",
       "      <td>5</td>\n",
       "      <td>positive</td>\n",
       "      <td>Wonderful, tasty taffy</td>\n",
       "      <td>This taffy is so good.  It is very soft and ch...</td>\n",
       "    </tr>\n",
       "    <tr>\n",
       "      <th>8</th>\n",
       "      <td>5</td>\n",
       "      <td>positive</td>\n",
       "      <td>Yay Barley</td>\n",
       "      <td>Right now I'm mostly just sprouting this so my...</td>\n",
       "    </tr>\n",
       "    <tr>\n",
       "      <th>9</th>\n",
       "      <td>5</td>\n",
       "      <td>positive</td>\n",
       "      <td>Healthy Dog Food</td>\n",
       "      <td>This is a very healthy dog food. Good for thei...</td>\n",
       "    </tr>\n",
       "    <tr>\n",
       "      <th>10</th>\n",
       "      <td>5</td>\n",
       "      <td>positive</td>\n",
       "      <td>The Best Hot Sauce in the World</td>\n",
       "      <td>I don't know if it's the cactus or the tequila...</td>\n",
       "    </tr>\n",
       "    <tr>\n",
       "      <th>11</th>\n",
       "      <td>5</td>\n",
       "      <td>positive</td>\n",
       "      <td>My cats LOVE this \"diet\" food better than thei...</td>\n",
       "      <td>One of my boys needed to lose some weight and ...</td>\n",
       "    </tr>\n",
       "    <tr>\n",
       "      <th>14</th>\n",
       "      <td>5</td>\n",
       "      <td>positive</td>\n",
       "      <td>Strawberry Twizzlers - Yummy</td>\n",
       "      <td>The Strawberry Twizzlers are my guilty pleasur...</td>\n",
       "    </tr>\n",
       "    <tr>\n",
       "      <th>15</th>\n",
       "      <td>5</td>\n",
       "      <td>positive</td>\n",
       "      <td>Lots of twizzlers, just what you expect.</td>\n",
       "      <td>My daughter loves twizzlers and this shipment ...</td>\n",
       "    </tr>\n",
       "  </tbody>\n",
       "</table>\n",
       "</div>"
      ],
      "text/plain": [
       "    Score Sentiment                                            Summary  \\\n",
       "0       5  positive                              Good Quality Dog Food   \n",
       "4       5  positive                                        Great taffy   \n",
       "6       5  positive      Great!  Just as good as the expensive brands!   \n",
       "7       5  positive                             Wonderful, tasty taffy   \n",
       "8       5  positive                                         Yay Barley   \n",
       "9       5  positive                                   Healthy Dog Food   \n",
       "10      5  positive                    The Best Hot Sauce in the World   \n",
       "11      5  positive  My cats LOVE this \"diet\" food better than thei...   \n",
       "14      5  positive                       Strawberry Twizzlers - Yummy   \n",
       "15      5  positive           Lots of twizzlers, just what you expect.   \n",
       "\n",
       "                                                 Text  \n",
       "0   I have bought several of the Vitality canned d...  \n",
       "4   Great taffy at a great price.  There was a wid...  \n",
       "6   This saltwater taffy had great flavors and was...  \n",
       "7   This taffy is so good.  It is very soft and ch...  \n",
       "8   Right now I'm mostly just sprouting this so my...  \n",
       "9   This is a very healthy dog food. Good for thei...  \n",
       "10  I don't know if it's the cactus or the tequila...  \n",
       "11  One of my boys needed to lose some weight and ...  \n",
       "14  The Strawberry Twizzlers are my guilty pleasur...  \n",
       "15  My daughter loves twizzlers and this shipment ...  "
      ]
     },
     "execution_count": 13,
     "metadata": {},
     "output_type": "execute_result"
    }
   ],
   "source": [
    "df[df.Score == 5].head(10)"
   ]
  },
  {
   "cell_type": "markdown",
   "metadata": {
    "id": "dmbUSBPiAvS9"
   },
   "source": [
    "And some 1s as well:"
   ]
  },
  {
   "cell_type": "code",
   "execution_count": 14,
   "metadata": {
    "id": "geLoZFgaAvS9",
    "outputId": "afc82655-d220-4575-f050-3e971f66fe31"
   },
   "outputs": [
    {
     "data": {
      "text/html": [
       "<div>\n",
       "<style scoped>\n",
       "    .dataframe tbody tr th:only-of-type {\n",
       "        vertical-align: middle;\n",
       "    }\n",
       "\n",
       "    .dataframe tbody tr th {\n",
       "        vertical-align: top;\n",
       "    }\n",
       "\n",
       "    .dataframe thead th {\n",
       "        text-align: right;\n",
       "    }\n",
       "</style>\n",
       "<table border=\"1\" class=\"dataframe\">\n",
       "  <thead>\n",
       "    <tr style=\"text-align: right;\">\n",
       "      <th></th>\n",
       "      <th>Score</th>\n",
       "      <th>Sentiment</th>\n",
       "      <th>Summary</th>\n",
       "      <th>Text</th>\n",
       "    </tr>\n",
       "  </thead>\n",
       "  <tbody>\n",
       "    <tr>\n",
       "      <th>1</th>\n",
       "      <td>1</td>\n",
       "      <td>negative</td>\n",
       "      <td>Not as Advertised</td>\n",
       "      <td>Product arrived labeled as Jumbo Salted Peanut...</td>\n",
       "    </tr>\n",
       "    <tr>\n",
       "      <th>12</th>\n",
       "      <td>1</td>\n",
       "      <td>negative</td>\n",
       "      <td>My Cats Are Not Fans of the New Food</td>\n",
       "      <td>My cats have been happily eating Felidae Plati...</td>\n",
       "    </tr>\n",
       "    <tr>\n",
       "      <th>26</th>\n",
       "      <td>1</td>\n",
       "      <td>negative</td>\n",
       "      <td>Nasty No flavor</td>\n",
       "      <td>The candy is just red , No flavor . Just  plan...</td>\n",
       "    </tr>\n",
       "    <tr>\n",
       "      <th>50</th>\n",
       "      <td>1</td>\n",
       "      <td>negative</td>\n",
       "      <td>Don't like it</td>\n",
       "      <td>This oatmeal is not good. Its mushy, soft, I d...</td>\n",
       "    </tr>\n",
       "    <tr>\n",
       "      <th>62</th>\n",
       "      <td>1</td>\n",
       "      <td>negative</td>\n",
       "      <td>stale product.</td>\n",
       "      <td>Arrived in 6 days and were so stale i could no...</td>\n",
       "    </tr>\n",
       "    <tr>\n",
       "      <th>73</th>\n",
       "      <td>1</td>\n",
       "      <td>negative</td>\n",
       "      <td>Warning!  WARNING!  -ALCOHOL SUGARS!</td>\n",
       "      <td>Buyer Beware Please! This sweetener is not for...</td>\n",
       "    </tr>\n",
       "    <tr>\n",
       "      <th>75</th>\n",
       "      <td>1</td>\n",
       "      <td>negative</td>\n",
       "      <td>No Tea Flavor</td>\n",
       "      <td>No tea flavor at all. Just whole brunch of art...</td>\n",
       "    </tr>\n",
       "    <tr>\n",
       "      <th>99</th>\n",
       "      <td>1</td>\n",
       "      <td>negative</td>\n",
       "      <td>Bad</td>\n",
       "      <td>I fed this to my Golden Retriever and he hated...</td>\n",
       "    </tr>\n",
       "    <tr>\n",
       "      <th>153</th>\n",
       "      <td>1</td>\n",
       "      <td>negative</td>\n",
       "      <td>Rip off Price</td>\n",
       "      <td>These singles sell for $2.50 - $3.36 at the st...</td>\n",
       "    </tr>\n",
       "    <tr>\n",
       "      <th>164</th>\n",
       "      <td>1</td>\n",
       "      <td>negative</td>\n",
       "      <td>Tasteless but low calorie</td>\n",
       "      <td>Seriously this product was as tasteless as the...</td>\n",
       "    </tr>\n",
       "  </tbody>\n",
       "</table>\n",
       "</div>"
      ],
      "text/plain": [
       "     Score Sentiment                               Summary  \\\n",
       "1        1  negative                     Not as Advertised   \n",
       "12       1  negative  My Cats Are Not Fans of the New Food   \n",
       "26       1  negative                       Nasty No flavor   \n",
       "50       1  negative                         Don't like it   \n",
       "62       1  negative                        stale product.   \n",
       "73       1  negative  Warning!  WARNING!  -ALCOHOL SUGARS!   \n",
       "75       1  negative                         No Tea Flavor   \n",
       "99       1  negative                                   Bad   \n",
       "153      1  negative                         Rip off Price   \n",
       "164      1  negative             Tasteless but low calorie   \n",
       "\n",
       "                                                  Text  \n",
       "1    Product arrived labeled as Jumbo Salted Peanut...  \n",
       "12   My cats have been happily eating Felidae Plati...  \n",
       "26   The candy is just red , No flavor . Just  plan...  \n",
       "50   This oatmeal is not good. Its mushy, soft, I d...  \n",
       "62   Arrived in 6 days and were so stale i could no...  \n",
       "73   Buyer Beware Please! This sweetener is not for...  \n",
       "75   No tea flavor at all. Just whole brunch of art...  \n",
       "99   I fed this to my Golden Retriever and he hated...  \n",
       "153  These singles sell for $2.50 - $3.36 at the st...  \n",
       "164  Seriously this product was as tasteless as the...  "
      ]
     },
     "execution_count": 14,
     "metadata": {},
     "output_type": "execute_result"
    }
   ],
   "source": [
    "df[df.Score == 1].head(10)"
   ]
  },
  {
   "cell_type": "code",
   "execution_count": 15,
   "metadata": {},
   "outputs": [
    {
     "data": {
      "text/plain": [
       "Score             5\n",
       "Sentiment         2\n",
       "Summary      295742\n",
       "Text         393579\n",
       "dtype: int64"
      ]
     },
     "execution_count": 15,
     "metadata": {},
     "output_type": "execute_result"
    }
   ],
   "source": [
    "df.nunique()"
   ]
  },
  {
   "cell_type": "code",
   "execution_count": 16,
   "metadata": {},
   "outputs": [
    {
     "name": "stdout",
     "output_type": "stream",
     "text": [
      "<class 'pandas.core.frame.DataFrame'>\n",
      "RangeIndex: 568454 entries, 0 to 568453\n",
      "Data columns (total 4 columns):\n",
      " #   Column     Non-Null Count   Dtype \n",
      "---  ------     --------------   ----- \n",
      " 0   Score      568454 non-null  int64 \n",
      " 1   Sentiment  568454 non-null  object\n",
      " 2   Summary    568427 non-null  object\n",
      " 3   Text       568454 non-null  object\n",
      "dtypes: int64(1), object(3)\n",
      "memory usage: 17.3+ MB\n"
     ]
    }
   ],
   "source": [
    "df.info()"
   ]
  },
  {
   "cell_type": "code",
   "execution_count": 17,
   "metadata": {},
   "outputs": [
    {
     "data": {
      "text/html": [
       "<div>\n",
       "<style scoped>\n",
       "    .dataframe tbody tr th:only-of-type {\n",
       "        vertical-align: middle;\n",
       "    }\n",
       "\n",
       "    .dataframe tbody tr th {\n",
       "        vertical-align: top;\n",
       "    }\n",
       "\n",
       "    .dataframe thead th {\n",
       "        text-align: right;\n",
       "    }\n",
       "</style>\n",
       "<table border=\"1\" class=\"dataframe\">\n",
       "  <thead>\n",
       "    <tr style=\"text-align: right;\">\n",
       "      <th></th>\n",
       "      <th>Score</th>\n",
       "      <th>Sentiment</th>\n",
       "      <th>Summary</th>\n",
       "      <th>Text</th>\n",
       "    </tr>\n",
       "  </thead>\n",
       "  <tbody>\n",
       "    <tr>\n",
       "      <th>33958</th>\n",
       "      <td>2</td>\n",
       "      <td>negative</td>\n",
       "      <td>NaN</td>\n",
       "      <td>I only used two maybe three tea bags and got p...</td>\n",
       "    </tr>\n",
       "    <tr>\n",
       "      <th>40548</th>\n",
       "      <td>2</td>\n",
       "      <td>negative</td>\n",
       "      <td>NaN</td>\n",
       "      <td>I only used two maybe three tea bags and got p...</td>\n",
       "    </tr>\n",
       "    <tr>\n",
       "      <th>101106</th>\n",
       "      <td>2</td>\n",
       "      <td>negative</td>\n",
       "      <td>NaN</td>\n",
       "      <td>I only used two maybe three tea bags and got p...</td>\n",
       "    </tr>\n",
       "    <tr>\n",
       "      <th>102979</th>\n",
       "      <td>2</td>\n",
       "      <td>negative</td>\n",
       "      <td>NaN</td>\n",
       "      <td>I only used two maybe three tea bags and got p...</td>\n",
       "    </tr>\n",
       "    <tr>\n",
       "      <th>117515</th>\n",
       "      <td>2</td>\n",
       "      <td>negative</td>\n",
       "      <td>NaN</td>\n",
       "      <td>I only used two maybe three tea bags and got p...</td>\n",
       "    </tr>\n",
       "    <tr>\n",
       "      <th>155712</th>\n",
       "      <td>2</td>\n",
       "      <td>negative</td>\n",
       "      <td>NaN</td>\n",
       "      <td>I only used two maybe three tea bags and got p...</td>\n",
       "    </tr>\n",
       "    <tr>\n",
       "      <th>178290</th>\n",
       "      <td>2</td>\n",
       "      <td>negative</td>\n",
       "      <td>NaN</td>\n",
       "      <td>I only used two maybe three tea bags and got p...</td>\n",
       "    </tr>\n",
       "    <tr>\n",
       "      <th>198474</th>\n",
       "      <td>2</td>\n",
       "      <td>negative</td>\n",
       "      <td>NaN</td>\n",
       "      <td>I only used two maybe three tea bags and got p...</td>\n",
       "    </tr>\n",
       "    <tr>\n",
       "      <th>212691</th>\n",
       "      <td>2</td>\n",
       "      <td>negative</td>\n",
       "      <td>NaN</td>\n",
       "      <td>I only used two maybe three tea bags and got p...</td>\n",
       "    </tr>\n",
       "    <tr>\n",
       "      <th>237565</th>\n",
       "      <td>3</td>\n",
       "      <td>negative</td>\n",
       "      <td>NaN</td>\n",
       "      <td>This is a cool system only problem is that the...</td>\n",
       "    </tr>\n",
       "    <tr>\n",
       "      <th>293906</th>\n",
       "      <td>2</td>\n",
       "      <td>negative</td>\n",
       "      <td>NaN</td>\n",
       "      <td>I only used two maybe three tea bags and got p...</td>\n",
       "    </tr>\n",
       "    <tr>\n",
       "      <th>299495</th>\n",
       "      <td>2</td>\n",
       "      <td>negative</td>\n",
       "      <td>NaN</td>\n",
       "      <td>I only used two maybe three tea bags and got p...</td>\n",
       "    </tr>\n",
       "    <tr>\n",
       "      <th>300961</th>\n",
       "      <td>2</td>\n",
       "      <td>negative</td>\n",
       "      <td>NaN</td>\n",
       "      <td>I only used two maybe three tea bags and got p...</td>\n",
       "    </tr>\n",
       "    <tr>\n",
       "      <th>333556</th>\n",
       "      <td>2</td>\n",
       "      <td>negative</td>\n",
       "      <td>NaN</td>\n",
       "      <td>I only used two maybe three tea bags and got p...</td>\n",
       "    </tr>\n",
       "    <tr>\n",
       "      <th>352043</th>\n",
       "      <td>2</td>\n",
       "      <td>negative</td>\n",
       "      <td>NaN</td>\n",
       "      <td>I only used two maybe three tea bags and got p...</td>\n",
       "    </tr>\n",
       "    <tr>\n",
       "      <th>357215</th>\n",
       "      <td>2</td>\n",
       "      <td>negative</td>\n",
       "      <td>NaN</td>\n",
       "      <td>I only used two maybe three tea bags and got p...</td>\n",
       "    </tr>\n",
       "    <tr>\n",
       "      <th>357814</th>\n",
       "      <td>2</td>\n",
       "      <td>negative</td>\n",
       "      <td>NaN</td>\n",
       "      <td>I only used two maybe three tea bags and got p...</td>\n",
       "    </tr>\n",
       "    <tr>\n",
       "      <th>360782</th>\n",
       "      <td>2</td>\n",
       "      <td>negative</td>\n",
       "      <td>NaN</td>\n",
       "      <td>I only used two maybe three tea bags and got p...</td>\n",
       "    </tr>\n",
       "    <tr>\n",
       "      <th>379473</th>\n",
       "      <td>2</td>\n",
       "      <td>negative</td>\n",
       "      <td>NaN</td>\n",
       "      <td>I only used two maybe three tea bags and got p...</td>\n",
       "    </tr>\n",
       "    <tr>\n",
       "      <th>380558</th>\n",
       "      <td>2</td>\n",
       "      <td>negative</td>\n",
       "      <td>NaN</td>\n",
       "      <td>I only used two maybe three tea bags and got p...</td>\n",
       "    </tr>\n",
       "    <tr>\n",
       "      <th>381313</th>\n",
       "      <td>2</td>\n",
       "      <td>negative</td>\n",
       "      <td>NaN</td>\n",
       "      <td>I only used two maybe three tea bags and got p...</td>\n",
       "    </tr>\n",
       "    <tr>\n",
       "      <th>386283</th>\n",
       "      <td>2</td>\n",
       "      <td>negative</td>\n",
       "      <td>NaN</td>\n",
       "      <td>I only used two maybe three tea bags and got p...</td>\n",
       "    </tr>\n",
       "    <tr>\n",
       "      <th>392529</th>\n",
       "      <td>3</td>\n",
       "      <td>negative</td>\n",
       "      <td>NaN</td>\n",
       "      <td>I like the product and tried it before I pucha...</td>\n",
       "    </tr>\n",
       "    <tr>\n",
       "      <th>484367</th>\n",
       "      <td>2</td>\n",
       "      <td>negative</td>\n",
       "      <td>NaN</td>\n",
       "      <td>I only used two maybe three tea bags and got p...</td>\n",
       "    </tr>\n",
       "    <tr>\n",
       "      <th>486640</th>\n",
       "      <td>2</td>\n",
       "      <td>negative</td>\n",
       "      <td>NaN</td>\n",
       "      <td>I only used two maybe three tea bags and got p...</td>\n",
       "    </tr>\n",
       "    <tr>\n",
       "      <th>503260</th>\n",
       "      <td>2</td>\n",
       "      <td>negative</td>\n",
       "      <td>NaN</td>\n",
       "      <td>I only used two maybe three tea bags and got p...</td>\n",
       "    </tr>\n",
       "    <tr>\n",
       "      <th>530716</th>\n",
       "      <td>2</td>\n",
       "      <td>negative</td>\n",
       "      <td>NaN</td>\n",
       "      <td>I only used two maybe three tea bags and got p...</td>\n",
       "    </tr>\n",
       "  </tbody>\n",
       "</table>\n",
       "</div>"
      ],
      "text/plain": [
       "        Score Sentiment Summary  \\\n",
       "33958       2  negative     NaN   \n",
       "40548       2  negative     NaN   \n",
       "101106      2  negative     NaN   \n",
       "102979      2  negative     NaN   \n",
       "117515      2  negative     NaN   \n",
       "155712      2  negative     NaN   \n",
       "178290      2  negative     NaN   \n",
       "198474      2  negative     NaN   \n",
       "212691      2  negative     NaN   \n",
       "237565      3  negative     NaN   \n",
       "293906      2  negative     NaN   \n",
       "299495      2  negative     NaN   \n",
       "300961      2  negative     NaN   \n",
       "333556      2  negative     NaN   \n",
       "352043      2  negative     NaN   \n",
       "357215      2  negative     NaN   \n",
       "357814      2  negative     NaN   \n",
       "360782      2  negative     NaN   \n",
       "379473      2  negative     NaN   \n",
       "380558      2  negative     NaN   \n",
       "381313      2  negative     NaN   \n",
       "386283      2  negative     NaN   \n",
       "392529      3  negative     NaN   \n",
       "484367      2  negative     NaN   \n",
       "486640      2  negative     NaN   \n",
       "503260      2  negative     NaN   \n",
       "530716      2  negative     NaN   \n",
       "\n",
       "                                                     Text  \n",
       "33958   I only used two maybe three tea bags and got p...  \n",
       "40548   I only used two maybe three tea bags and got p...  \n",
       "101106  I only used two maybe three tea bags and got p...  \n",
       "102979  I only used two maybe three tea bags and got p...  \n",
       "117515  I only used two maybe three tea bags and got p...  \n",
       "155712  I only used two maybe three tea bags and got p...  \n",
       "178290  I only used two maybe three tea bags and got p...  \n",
       "198474  I only used two maybe three tea bags and got p...  \n",
       "212691  I only used two maybe three tea bags and got p...  \n",
       "237565  This is a cool system only problem is that the...  \n",
       "293906  I only used two maybe three tea bags and got p...  \n",
       "299495  I only used two maybe three tea bags and got p...  \n",
       "300961  I only used two maybe three tea bags and got p...  \n",
       "333556  I only used two maybe three tea bags and got p...  \n",
       "352043  I only used two maybe three tea bags and got p...  \n",
       "357215  I only used two maybe three tea bags and got p...  \n",
       "357814  I only used two maybe three tea bags and got p...  \n",
       "360782  I only used two maybe three tea bags and got p...  \n",
       "379473  I only used two maybe three tea bags and got p...  \n",
       "380558  I only used two maybe three tea bags and got p...  \n",
       "381313  I only used two maybe three tea bags and got p...  \n",
       "386283  I only used two maybe three tea bags and got p...  \n",
       "392529  I like the product and tried it before I pucha...  \n",
       "484367  I only used two maybe three tea bags and got p...  \n",
       "486640  I only used two maybe three tea bags and got p...  \n",
       "503260  I only used two maybe three tea bags and got p...  \n",
       "530716  I only used two maybe three tea bags and got p...  "
      ]
     },
     "execution_count": 17,
     "metadata": {},
     "output_type": "execute_result"
    }
   ],
   "source": [
    "df[df['Summary'].isnull() == True]"
   ]
  },
  {
   "cell_type": "markdown",
   "metadata": {},
   "source": [
    "There are some 'Null' data in the column 'Summary' and the content of text are most same. Only 27 summary data is null. Therefore, I ma going to remove all null 'Summary' data."
   ]
  },
  {
   "cell_type": "code",
   "execution_count": 18,
   "metadata": {},
   "outputs": [],
   "source": [
    "df = df[df['Summary'].notnull()]"
   ]
  },
  {
   "cell_type": "code",
   "execution_count": 19,
   "metadata": {},
   "outputs": [
    {
     "data": {
      "text/html": [
       "<div>\n",
       "<style scoped>\n",
       "    .dataframe tbody tr th:only-of-type {\n",
       "        vertical-align: middle;\n",
       "    }\n",
       "\n",
       "    .dataframe tbody tr th {\n",
       "        vertical-align: top;\n",
       "    }\n",
       "\n",
       "    .dataframe thead th {\n",
       "        text-align: right;\n",
       "    }\n",
       "</style>\n",
       "<table border=\"1\" class=\"dataframe\">\n",
       "  <thead>\n",
       "    <tr style=\"text-align: right;\">\n",
       "      <th></th>\n",
       "      <th>Score</th>\n",
       "      <th>Sentiment</th>\n",
       "      <th>Summary</th>\n",
       "      <th>Text</th>\n",
       "    </tr>\n",
       "  </thead>\n",
       "  <tbody>\n",
       "  </tbody>\n",
       "</table>\n",
       "</div>"
      ],
      "text/plain": [
       "Empty DataFrame\n",
       "Columns: [Score, Sentiment, Summary, Text]\n",
       "Index: []"
      ]
     },
     "execution_count": 19,
     "metadata": {},
     "output_type": "execute_result"
    }
   ],
   "source": [
    "df[df['Summary'].isnull() == True]"
   ]
  },
  {
   "cell_type": "code",
   "execution_count": 20,
   "metadata": {},
   "outputs": [
    {
     "name": "stdout",
     "output_type": "stream",
     "text": [
      "<class 'pandas.core.frame.DataFrame'>\n",
      "Int64Index: 568427 entries, 0 to 568453\n",
      "Data columns (total 4 columns):\n",
      " #   Column     Non-Null Count   Dtype \n",
      "---  ------     --------------   ----- \n",
      " 0   Score      568427 non-null  int64 \n",
      " 1   Sentiment  568427 non-null  object\n",
      " 2   Summary    568427 non-null  object\n",
      " 3   Text       568427 non-null  object\n",
      "dtypes: int64(1), object(3)\n",
      "memory usage: 21.7+ MB\n"
     ]
    }
   ],
   "source": [
    "df.info()"
   ]
  },
  {
   "cell_type": "markdown",
   "metadata": {},
   "source": [
    "There is no null data in the dataframe now, it is ready to tokenize."
   ]
  },
  {
   "cell_type": "markdown",
   "metadata": {},
   "source": [
    "## Text Tokenization"
   ]
  },
  {
   "cell_type": "markdown",
   "metadata": {},
   "source": [
    "Text Tokenization is the process of breaking down text into smaller units, such as words or subwords, for further natural language processing analysis. There are several steps I used: \n",
    "1. **Lowercasing:** Convert all text to lowercase to ensure uniformity.\n",
    "2. **Removing html Tags:** Remove any HTML tags that may be present in the text.\n",
    "3. **Splitting Text into Tokens:** Divide the text into individual words or tokens.\n",
    "4. **Removing Punctuation:** Strip out punctuation marks unless they are necessary for the analysis.\n",
    "5. **Removing Stop Words:** Remove common words that don’t add much meaning (e.g., \"and,\" \"the\").\n",
    "6. **Stemming:** Reduce words to their root forms to treat different forms of a word as the same token.\n"
   ]
  },
  {
   "cell_type": "markdown",
   "metadata": {},
   "source": [
    "### Lowercasing"
   ]
  },
  {
   "cell_type": "code",
   "execution_count": 21,
   "metadata": {},
   "outputs": [
    {
     "data": {
      "text/plain": [
       "0         i have bought several of the vitality canned d...\n",
       "1         product arrived labeled as jumbo salted peanut...\n",
       "2         this is a confection that has been around a fe...\n",
       "3         if you are looking for the secret ingredient i...\n",
       "4         great taffy at a great price.  there was a wid...\n",
       "                                ...                        \n",
       "568449    great for sesame chicken..this is a good if no...\n",
       "568450    i'm disappointed with the flavor. the chocolat...\n",
       "568451    these stars are small, so you can give 10-15 o...\n",
       "568452    these are the best treats for training and rew...\n",
       "568453    i am very satisfied ,product is as advertised,...\n",
       "Name: Text, Length: 568427, dtype: object"
      ]
     },
     "execution_count": 21,
     "metadata": {},
     "output_type": "execute_result"
    }
   ],
   "source": [
    "# lowercase\n",
    "df['Text'] = df['Text'].str.lower()\n",
    "df['Text']"
   ]
  },
  {
   "cell_type": "markdown",
   "metadata": {},
   "source": [
    "### Removing html Tags"
   ]
  },
  {
   "cell_type": "code",
   "execution_count": 22,
   "metadata": {},
   "outputs": [
    {
     "name": "stderr",
     "output_type": "stream",
     "text": [
      "/tmp/ipykernel_10463/1635087614.py:3: MarkupResemblesLocatorWarning: The input looks more like a filename than markup. You may want to open this file and pass the filehandle into Beautiful Soup.\n",
      "  soup = BeautifulSoup(text, \"html.parser\")\n"
     ]
    }
   ],
   "source": [
    "from bs4 import BeautifulSoup\n",
    "def remove_html_tags(text):\n",
    "    soup = BeautifulSoup(text, \"html.parser\")\n",
    "    return soup.get_text()\n",
    "\n",
    "\n",
    "df['Text'] = df['Text'].apply(remove_html_tags)"
   ]
  },
  {
   "cell_type": "markdown",
   "metadata": {},
   "source": [
    "### Import the nltk package"
   ]
  },
  {
   "cell_type": "markdown",
   "metadata": {},
   "source": [
    "- **`import nltk:`** The main Natural Language Toolkit (nltk) library, which provides tools for text processing.\n",
    "- **`from nltk.tokenize import word_tokenize:`** Imports the `word_tokenize` function for splitting text into individual words or tokens.\n",
    "- **`from nltk.corpus import stopwords:`** Imports the `stopwords` list, which contains common words that are often removed during text preprocessing.\n",
    "- **`from nltk.stem import PorterStemmer:`** Imports the `PorterStemmer` class, used to reduce words to their base or root form (stemming).\n",
    "- **`import string:`** Imports Python's `string` module, which provides functions and constants, such as a list of punctuation characters.\n",
    "- **`import re:`** Imports Python's `re` module, which supports working with regular expressions for pattern matching and manipulation in strings.\n"
   ]
  },
  {
   "cell_type": "code",
   "execution_count": 23,
   "metadata": {},
   "outputs": [],
   "source": [
    "import nltk\n",
    "from nltk.tokenize import word_tokenize\n",
    "from nltk.corpus import stopwords\n",
    "from nltk.stem import PorterStemmer\n",
    "import string\n",
    "import re"
   ]
  },
  {
   "cell_type": "markdown",
   "metadata": {},
   "source": [
    "### Tokenization"
   ]
  },
  {
   "cell_type": "code",
   "execution_count": 24,
   "metadata": {},
   "outputs": [
    {
     "data": {
      "text/plain": [
       "0         [i, have, bought, several, of, the, vitality, ...\n",
       "1         [product, arrived, labeled, as, jumbo, salted,...\n",
       "2         [this, is, a, confection, that, has, been, aro...\n",
       "3         [if, you, are, looking, for, the, secret, ingr...\n",
       "4         [great, taffy, at, a, great, price, ., there, ...\n",
       "                                ...                        \n",
       "568449    [great, for, sesame, chicken, .., this, is, a,...\n",
       "568450    [i, 'm, disappointed, with, the, flavor, ., th...\n",
       "568451    [these, stars, are, small, ,, so, you, can, gi...\n",
       "568452    [these, are, the, best, treats, for, training,...\n",
       "568453    [i, am, very, satisfied, ,, product, is, as, a...\n",
       "Name: Text_tokenized, Length: 568427, dtype: object"
      ]
     },
     "execution_count": 24,
     "metadata": {},
     "output_type": "execute_result"
    }
   ],
   "source": [
    "# Tokenize\n",
    "df['Text_tokenized'] = df['Text'].apply(word_tokenize)\n",
    "df['Text_tokenized'] "
   ]
  },
  {
   "cell_type": "markdown",
   "metadata": {},
   "source": [
    "### Removing Punctuation"
   ]
  },
  {
   "cell_type": "code",
   "execution_count": 25,
   "metadata": {},
   "outputs": [
    {
     "data": {
      "text/plain": [
       "0         [i, have, bought, several, of, the, vitality, ...\n",
       "1         [product, arrived, labeled, as, jumbo, salted,...\n",
       "2         [this, is, a, confection, that, has, been, aro...\n",
       "3         [if, you, are, looking, for, the, secret, ingr...\n",
       "4         [great, taffy, at, a, great, price, there, was...\n",
       "                                ...                        \n",
       "568449    [great, for, sesame, chicken, this, is, a, goo...\n",
       "568450    [i, disappointed, with, the, flavor, the, choc...\n",
       "568451    [these, stars, are, small, so, you, can, give,...\n",
       "568452    [these, are, the, best, treats, for, training,...\n",
       "568453    [i, am, very, satisfied, product, is, as, adve...\n",
       "Name: Text_tokenized, Length: 568427, dtype: object"
      ]
     },
     "execution_count": 25,
     "metadata": {},
     "output_type": "execute_result"
    }
   ],
   "source": [
    "def contains_unwanted_char(word):\n",
    "    unwanted_pattern = re.compile(r\"[^\\w\\s]\")\n",
    "    return bool(unwanted_pattern.search(word))\n",
    "\n",
    "df['Text_tokenized'] = df['Text_tokenized'].apply(lambda x: [word for word in x if not contains_unwanted_char(word)])\n",
    "df['Text_tokenized']"
   ]
  },
  {
   "cell_type": "markdown",
   "metadata": {},
   "source": [
    "### Removing Stop Word"
   ]
  },
  {
   "cell_type": "code",
   "execution_count": 26,
   "metadata": {},
   "outputs": [
    {
     "data": {
      "text/plain": [
       "0         [bought, several, vitality, canned, dog, food,...\n",
       "1         [product, arrived, labeled, jumbo, salted, pea...\n",
       "2         [confection, around, centuries, light, pillowy...\n",
       "3         [looking, secret, ingredient, robitussin, beli...\n",
       "4         [great, taffy, great, price, wide, assortment,...\n",
       "                                ...                        \n",
       "568449    [great, sesame, chicken, good, better, restura...\n",
       "568450    [disappointed, flavor, chocolate, notes, espec...\n",
       "568451    [stars, small, give, one, training, session, t...\n",
       "568452    [best, treats, training, rewarding, dog, good,...\n",
       "568453    [satisfied, product, advertised, use, cereal, ...\n",
       "Name: Text_tokenized, Length: 568427, dtype: object"
      ]
     },
     "execution_count": 26,
     "metadata": {},
     "output_type": "execute_result"
    }
   ],
   "source": [
    "# stop word removal\n",
    "stop_words = set(stopwords.words('english'))\n",
    "df['Text_tokenized'] = df['Text_tokenized'].apply(lambda x: [word for word in x if word not in stop_words])\n",
    "df['Text_tokenized']"
   ]
  },
  {
   "cell_type": "markdown",
   "metadata": {},
   "source": [
    "### Stemming"
   ]
  },
  {
   "cell_type": "code",
   "execution_count": 27,
   "metadata": {},
   "outputs": [
    {
     "data": {
      "text/plain": [
       "0         [bought, sever, vital, can, dog, food, product...\n",
       "1         [product, arriv, label, jumbo, salt, peanut, p...\n",
       "2         [confect, around, centuri, light, pillowi, cit...\n",
       "3         [look, secret, ingredi, robitussin, believ, fo...\n",
       "4         [great, taffi, great, price, wide, assort, yum...\n",
       "                                ...                        \n",
       "568449    [great, sesam, chicken, good, better, restur, ...\n",
       "568450    [disappoint, flavor, chocol, note, especi, wea...\n",
       "568451    [star, small, give, one, train, session, tri, ...\n",
       "568452    [best, treat, train, reward, dog, good, groom,...\n",
       "568453    [satisfi, product, advertis, use, cereal, raw,...\n",
       "Name: Text_tokenized, Length: 568427, dtype: object"
      ]
     },
     "execution_count": 27,
     "metadata": {},
     "output_type": "execute_result"
    }
   ],
   "source": [
    "# stemming\n",
    "ps = PorterStemmer()\n",
    "df['Text_tokenized'] = df['Text_tokenized'].apply(lambda x: [ps.stem(word) for word in x])\n",
    "df['Text_tokenized']"
   ]
  },
  {
   "cell_type": "code",
   "execution_count": 28,
   "metadata": {},
   "outputs": [
    {
     "data": {
      "text/html": [
       "<div>\n",
       "<style scoped>\n",
       "    .dataframe tbody tr th:only-of-type {\n",
       "        vertical-align: middle;\n",
       "    }\n",
       "\n",
       "    .dataframe tbody tr th {\n",
       "        vertical-align: top;\n",
       "    }\n",
       "\n",
       "    .dataframe thead th {\n",
       "        text-align: right;\n",
       "    }\n",
       "</style>\n",
       "<table border=\"1\" class=\"dataframe\">\n",
       "  <thead>\n",
       "    <tr style=\"text-align: right;\">\n",
       "      <th></th>\n",
       "      <th>Score</th>\n",
       "      <th>Sentiment</th>\n",
       "      <th>Summary</th>\n",
       "      <th>Text</th>\n",
       "      <th>Text_tokenized</th>\n",
       "    </tr>\n",
       "  </thead>\n",
       "  <tbody>\n",
       "    <tr>\n",
       "      <th>0</th>\n",
       "      <td>5</td>\n",
       "      <td>positive</td>\n",
       "      <td>Good Quality Dog Food</td>\n",
       "      <td>i have bought several of the vitality canned d...</td>\n",
       "      <td>[bought, sever, vital, can, dog, food, product...</td>\n",
       "    </tr>\n",
       "    <tr>\n",
       "      <th>1</th>\n",
       "      <td>1</td>\n",
       "      <td>negative</td>\n",
       "      <td>Not as Advertised</td>\n",
       "      <td>product arrived labeled as jumbo salted peanut...</td>\n",
       "      <td>[product, arriv, label, jumbo, salt, peanut, p...</td>\n",
       "    </tr>\n",
       "    <tr>\n",
       "      <th>2</th>\n",
       "      <td>4</td>\n",
       "      <td>positive</td>\n",
       "      <td>\"Delight\" says it all</td>\n",
       "      <td>this is a confection that has been around a fe...</td>\n",
       "      <td>[confect, around, centuri, light, pillowi, cit...</td>\n",
       "    </tr>\n",
       "    <tr>\n",
       "      <th>3</th>\n",
       "      <td>2</td>\n",
       "      <td>negative</td>\n",
       "      <td>Cough Medicine</td>\n",
       "      <td>if you are looking for the secret ingredient i...</td>\n",
       "      <td>[look, secret, ingredi, robitussin, believ, fo...</td>\n",
       "    </tr>\n",
       "    <tr>\n",
       "      <th>4</th>\n",
       "      <td>5</td>\n",
       "      <td>positive</td>\n",
       "      <td>Great taffy</td>\n",
       "      <td>great taffy at a great price.  there was a wid...</td>\n",
       "      <td>[great, taffi, great, price, wide, assort, yum...</td>\n",
       "    </tr>\n",
       "  </tbody>\n",
       "</table>\n",
       "</div>"
      ],
      "text/plain": [
       "   Score Sentiment                Summary  \\\n",
       "0      5  positive  Good Quality Dog Food   \n",
       "1      1  negative      Not as Advertised   \n",
       "2      4  positive  \"Delight\" says it all   \n",
       "3      2  negative         Cough Medicine   \n",
       "4      5  positive            Great taffy   \n",
       "\n",
       "                                                Text  \\\n",
       "0  i have bought several of the vitality canned d...   \n",
       "1  product arrived labeled as jumbo salted peanut...   \n",
       "2  this is a confection that has been around a fe...   \n",
       "3  if you are looking for the secret ingredient i...   \n",
       "4  great taffy at a great price.  there was a wid...   \n",
       "\n",
       "                                      Text_tokenized  \n",
       "0  [bought, sever, vital, can, dog, food, product...  \n",
       "1  [product, arriv, label, jumbo, salt, peanut, p...  \n",
       "2  [confect, around, centuri, light, pillowi, cit...  \n",
       "3  [look, secret, ingredi, robitussin, believ, fo...  \n",
       "4  [great, taffi, great, price, wide, assort, yum...  "
      ]
     },
     "execution_count": 28,
     "metadata": {},
     "output_type": "execute_result"
    }
   ],
   "source": [
    "# Check the first five rows of data\n",
    "df.head()"
   ]
  },
  {
   "cell_type": "code",
   "execution_count": 29,
   "metadata": {},
   "outputs": [],
   "source": [
    "# Save the tokenization results\n",
    "df.to_csv('archive/contain_token.csv', index=False)"
   ]
  },
  {
   "cell_type": "markdown",
   "metadata": {},
   "source": [
    "## Text to Vector"
   ]
  },
  {
   "cell_type": "markdown",
   "metadata": {},
   "source": [
    "Text to Vector is the process of converting text into numerical vectors for natural language analysis. There are several methods I used as follows: Unigram, Bigram, TF-IDF.\n",
    "\n",
    "###  Unigram\n",
    "The Unigram model treats each word in the text as an independent feature, focusing solely on individual words without considering their relationships.\n",
    "\n",
    "###  Bigram\n",
    "The Bigram model captures sequential relationships by treating two consecutive words as a single input unit, considering both individual words and their combinations.\n",
    "\n",
    "###  TF-IDF\n",
    "TF-IDF stands for \"Term Frequency-Inverse Document Frequency\", this technique measures the importance of a word in a document by considering both its frequency within the document (TF) and its rarity across all documents in the corpus (IDF).\n",
    "\n",
    "### Word2Vec Embedding\n",
    "Word2Vec is an embedding technique that transforms words into continuous vectors in a multi-dimensional space, capturing semantic relationships between words based on their context within a corpus."
   ]
  },
  {
   "cell_type": "markdown",
   "metadata": {},
   "source": [
    "#### Preprocessing the tokenized data"
   ]
  },
  {
   "cell_type": "code",
   "execution_count": 4,
   "metadata": {},
   "outputs": [],
   "source": [
    "# Load the tokenization results\n",
    "df = pd.read_csv('archive/contain_token.csv')"
   ]
  },
  {
   "cell_type": "code",
   "execution_count": 5,
   "metadata": {},
   "outputs": [
    {
     "name": "stdout",
     "output_type": "stream",
     "text": [
      "<class 'str'>\n"
     ]
    }
   ],
   "source": [
    "print(type(df['Text_tokenized'][0]))"
   ]
  },
  {
   "cell_type": "code",
   "execution_count": 6,
   "metadata": {},
   "outputs": [
    {
     "name": "stdout",
     "output_type": "stream",
     "text": [
      "0    [bought, sever, vital, can, dog, food, product...\n",
      "1    [product, arriv, label, jumbo, salt, peanut, p...\n",
      "2    [confect, around, centuri, light, pillowi, cit...\n",
      "3    [look, secret, ingredi, robitussin, believ, fo...\n",
      "4    [great, taffi, great, price, wide, assort, yum...\n",
      "Name: Text_tokenized, dtype: object\n",
      "<class 'list'>\n"
     ]
    }
   ],
   "source": [
    "# Since csv file will output a string, re-form df['Text_tokenized'] to list for 'Text to Vector'\n",
    "def manual_string_to_list(string):\n",
    "    string = string.strip(\"[]\")\n",
    "    return [item.strip().strip(\"'\").strip('\"') for item in string.split(',')]\n",
    "\n",
    "df['Text_tokenized'] = df['Text_tokenized'].apply(manual_string_to_list)\n",
    "\n",
    "print(df['Text_tokenized'].head())\n",
    "print(type(df['Text_tokenized'][0])) "
   ]
  },
  {
   "cell_type": "markdown",
   "metadata": {},
   "source": [
    "## Unigram"
   ]
  },
  {
   "cell_type": "code",
   "execution_count": 7,
   "metadata": {},
   "outputs": [],
   "source": [
    "from sklearn.feature_extraction.text import CountVectorizer"
   ]
  },
  {
   "cell_type": "code",
   "execution_count": 8,
   "metadata": {},
   "outputs": [
    {
     "name": "stderr",
     "output_type": "stream",
     "text": [
      "/home/adduser/anaconda3/lib/python3.9/site-packages/sklearn/feature_extraction/text.py:525: UserWarning: The parameter 'token_pattern' will not be used since 'tokenizer' is not None'\n",
      "  warnings.warn(\n"
     ]
    },
    {
     "name": "stdout",
     "output_type": "stream",
     "text": [
      "Shape of the matrix: (568427, 1000)\n",
      "   1  10  100  12  15  16  2  20  24  3  ...  wow  wrap  write  wrong  ye  \\\n",
      "0  0   0    0   0   0   0  0   0   0  0  ...    0     0      0      0   0   \n",
      "1  0   0    0   0   0   0  0   0   0  0  ...    0     0      0      0   0   \n",
      "2  0   0    0   0   0   0  0   0   0  0  ...    0     0      0      0   0   \n",
      "3  0   0    0   0   0   0  0   0   0  0  ...    0     0      0      0   0   \n",
      "4  0   0    0   0   0   0  0   0   0  0  ...    0     0      0      0   0   \n",
      "5  0   0    0   0   0   0  0   0   0  0  ...    0     0      0      0   0   \n",
      "6  0   0    0   0   0   0  0   0   0  0  ...    0     1      0      0   0   \n",
      "7  0   0    0   0   0   0  0   0   0  0  ...    0     0      0      0   0   \n",
      "8  0   0    0   0   0   0  0   0   0  0  ...    0     0      0      0   0   \n",
      "9  0   0    0   0   0   0  0   0   0  0  ...    0     0      0      0   0   \n",
      "\n",
      "   year  yet  yogurt  yum  yummi  \n",
      "0     0    0       0    0      0  \n",
      "1     0    0       0    0      0  \n",
      "2     0    0       0    0      1  \n",
      "3     0    0       0    0      0  \n",
      "4     0    0       0    0      1  \n",
      "5     0    0       0    0      0  \n",
      "6     0    0       0    0      0  \n",
      "7     0    0       0    0      0  \n",
      "8     0    0       0    0      0  \n",
      "9     0    0       0    0      0  \n",
      "\n",
      "[10 rows x 1000 columns]\n"
     ]
    }
   ],
   "source": [
    "#  CountVectorizer process the text token\n",
    "vectorizer = CountVectorizer(tokenizer=lambda x: x, lowercase=False, max_features=1000)  \n",
    "X_unigram = vectorizer.fit_transform(df['Text_tokenized'])\n",
    "\n",
    "# text features\n",
    "features = vectorizer.get_feature_names_out()\n",
    "\n",
    "# check the shape and unigram data\n",
    "print(f\"Shape of the matrix: {X_unigram.shape}\")\n",
    "\n",
    "print(pd.DataFrame(X_unigram[:10].toarray(), columns=features))"
   ]
  },
  {
   "cell_type": "markdown",
   "metadata": {},
   "source": [
    "## Bigram"
   ]
  },
  {
   "cell_type": "code",
   "execution_count": 9,
   "metadata": {},
   "outputs": [
    {
     "name": "stderr",
     "output_type": "stream",
     "text": [
      "/home/adduser/anaconda3/lib/python3.9/site-packages/sklearn/feature_extraction/text.py:525: UserWarning: The parameter 'token_pattern' will not be used since 'tokenizer' is not None'\n",
      "  warnings.warn(\n"
     ]
    },
    {
     "name": "stdout",
     "output_type": "stream",
     "text": [
      "Shape of the matrix: (568427, 1000)\n",
      "   1 cup  10 minut  10 year  100 calori  12 pack  16 oz  2 3  2 cup  2 day  \\\n",
      "0      0         0        0           0        0      0    0      0      0   \n",
      "1      0         0        0           0        0      0    0      0      0   \n",
      "2      0         0        0           0        0      0    0      0      0   \n",
      "3      0         0        0           0        0      0    0      0      0   \n",
      "4      0         0        0           0        0      0    0      0      0   \n",
      "5      0         0        0           0        0      0    0      0      0   \n",
      "6      0         0        0           0        0      0    0      0      0   \n",
      "7      0         0        0           0        0      0    0      0      0   \n",
      "8      0         0        0           0        0      0    0      0      0   \n",
      "9      0         0        0           0        0      0    0      0      0   \n",
      "\n",
      "   2 month  ...  would say  would suggest  would tast  would tri  would use  \\\n",
      "0        0  ...          0              0           0          0          0   \n",
      "1        0  ...          0              0           0          0          0   \n",
      "2        0  ...          0              0           0          0          0   \n",
      "3        0  ...          0              0           0          0          0   \n",
      "4        0  ...          0              0           0          0          0   \n",
      "5        0  ...          0              0           0          0          0   \n",
      "6        0  ...          0              0           0          0          0   \n",
      "7        0  ...          0              0           0          0          0   \n",
      "8        0  ...          0              0           0          0          0   \n",
      "9        0  ...          0              0           0          0          0   \n",
      "\n",
      "   would want  write review  year ago  year old  yr old  \n",
      "0           0             0         0         0       0  \n",
      "1           0             0         0         0       0  \n",
      "2           0             0         0         0       0  \n",
      "3           0             0         0         0       0  \n",
      "4           0             0         0         0       0  \n",
      "5           0             0         0         0       0  \n",
      "6           0             0         0         0       0  \n",
      "7           0             0         0         0       0  \n",
      "8           0             0         0         0       0  \n",
      "9           0             0         0         0       0  \n",
      "\n",
      "[10 rows x 1000 columns]\n"
     ]
    }
   ],
   "source": [
    "# CountVectorizer process the text token\n",
    "# ngram_range=(2, 2) to organize the two texts in a set\n",
    "vectorizer = CountVectorizer(tokenizer=lambda x: x, lowercase=False, ngram_range=(2, 2), max_features=1000)  \n",
    "X_bigram = vectorizer.fit_transform(df['Text_tokenized'])\n",
    "\n",
    "features = vectorizer.get_feature_names_out()\n",
    "\n",
    "print(f\"Shape of the matrix: {X_unigram.shape}\")\n",
    "\n",
    "print(pd.DataFrame(X_bigram[:10].toarray(), columns=features))"
   ]
  },
  {
   "cell_type": "markdown",
   "metadata": {},
   "source": [
    "## TFIDF"
   ]
  },
  {
   "cell_type": "code",
   "execution_count": 10,
   "metadata": {},
   "outputs": [],
   "source": [
    "# tranfer list to string for TfidfVectorizer\n",
    "df['Text_tokenized_str'] = df['Text_tokenized'].apply(lambda x: ' '.join(x))"
   ]
  },
  {
   "cell_type": "code",
   "execution_count": 11,
   "metadata": {},
   "outputs": [],
   "source": [
    "from sklearn.feature_extraction.text import TfidfVectorizer"
   ]
  },
  {
   "cell_type": "markdown",
   "metadata": {},
   "source": [
    "### TFIDF Unigram"
   ]
  },
  {
   "cell_type": "code",
   "execution_count": 12,
   "metadata": {},
   "outputs": [
    {
     "name": "stdout",
     "output_type": "stream",
     "text": [
      "Shape of the sparse matrix: (568427, 1000)\n",
      "    10  100   12   15   16   20   24   30   50  abl  ...  wow      wrap  \\\n",
      "0  0.0  0.0  0.0  0.0  0.0  0.0  0.0  0.0  0.0  0.0  ...  0.0  0.000000   \n",
      "1  0.0  0.0  0.0  0.0  0.0  0.0  0.0  0.0  0.0  0.0  ...  0.0  0.000000   \n",
      "2  0.0  0.0  0.0  0.0  0.0  0.0  0.0  0.0  0.0  0.0  ...  0.0  0.000000   \n",
      "3  0.0  0.0  0.0  0.0  0.0  0.0  0.0  0.0  0.0  0.0  ...  0.0  0.000000   \n",
      "4  0.0  0.0  0.0  0.0  0.0  0.0  0.0  0.0  0.0  0.0  ...  0.0  0.000000   \n",
      "5  0.0  0.0  0.0  0.0  0.0  0.0  0.0  0.0  0.0  0.0  ...  0.0  0.000000   \n",
      "6  0.0  0.0  0.0  0.0  0.0  0.0  0.0  0.0  0.0  0.0  ...  0.0  0.223841   \n",
      "7  0.0  0.0  0.0  0.0  0.0  0.0  0.0  0.0  0.0  0.0  ...  0.0  0.000000   \n",
      "8  0.0  0.0  0.0  0.0  0.0  0.0  0.0  0.0  0.0  0.0  ...  0.0  0.000000   \n",
      "9  0.0  0.0  0.0  0.0  0.0  0.0  0.0  0.0  0.0  0.0  ...  0.0  0.000000   \n",
      "\n",
      "   write  wrong   ye  year  yet  yogurt  yum     yummi  \n",
      "0    0.0    0.0  0.0   0.0  0.0     0.0  0.0  0.000000  \n",
      "1    0.0    0.0  0.0   0.0  0.0     0.0  0.0  0.000000  \n",
      "2    0.0    0.0  0.0   0.0  0.0     0.0  0.0  0.228801  \n",
      "3    0.0    0.0  0.0   0.0  0.0     0.0  0.0  0.000000  \n",
      "4    0.0    0.0  0.0   0.0  0.0     0.0  0.0  0.395552  \n",
      "5    0.0    0.0  0.0   0.0  0.0     0.0  0.0  0.000000  \n",
      "6    0.0    0.0  0.0   0.0  0.0     0.0  0.0  0.000000  \n",
      "7    0.0    0.0  0.0   0.0  0.0     0.0  0.0  0.000000  \n",
      "8    0.0    0.0  0.0   0.0  0.0     0.0  0.0  0.000000  \n",
      "9    0.0    0.0  0.0   0.0  0.0     0.0  0.0  0.000000  \n",
      "\n",
      "[10 rows x 1000 columns]\n"
     ]
    }
   ],
   "source": [
    "# use TfidfVectorizer process the text data，generate the unigram TF-IDF\n",
    "vectorizer = TfidfVectorizer(lowercase=False, ngram_range=(1, 1), max_features=1000)\n",
    "\n",
    "X_tfidf_uni = vectorizer.fit_transform(df['Text_tokenized_str'])\n",
    "\n",
    "features = vectorizer.get_feature_names_out()\n",
    "\n",
    "print(f\"Shape of the sparse matrix: {X_tfidf_uni.shape}\")\n",
    "\n",
    "df_tfidf_uni = pd.DataFrame(X_tfidf_uni[:10].toarray(), columns=features)\n",
    "print(df_tfidf_uni)\n"
   ]
  },
  {
   "cell_type": "markdown",
   "metadata": {},
   "source": [
    "### TFIDF bigram"
   ]
  },
  {
   "cell_type": "code",
   "execution_count": 14,
   "metadata": {},
   "outputs": [
    {
     "name": "stdout",
     "output_type": "stream",
     "text": [
      "Shape of the sparse matrix: (568427, 1000)\n",
      "   10 minut  10 year  100 calori  12 pack  16 oz  abl find  abl get  \\\n",
      "0       0.0      0.0         0.0      0.0    0.0       0.0      0.0   \n",
      "1       0.0      0.0         0.0      0.0    0.0       0.0      0.0   \n",
      "2       0.0      0.0         0.0      0.0    0.0       0.0      0.0   \n",
      "3       0.0      0.0         0.0      0.0    0.0       0.0      0.0   \n",
      "4       0.0      0.0         0.0      0.0    0.0       0.0      0.0   \n",
      "5       0.0      0.0         0.0      0.0    0.0       0.0      0.0   \n",
      "6       0.0      0.0         0.0      0.0    0.0       0.0      0.0   \n",
      "7       0.0      0.0         0.0      0.0    0.0       0.0      0.0   \n",
      "8       0.0      0.0         0.0      0.0    0.0       0.0      0.0   \n",
      "9       0.0      0.0         0.0      0.0    0.0       0.0      0.0   \n",
      "\n",
      "   absolut delici  absolut favorit  absolut love  ...  would say  \\\n",
      "0             0.0              0.0           0.0  ...        0.0   \n",
      "1             0.0              0.0           0.0  ...        0.0   \n",
      "2             0.0              0.0           0.0  ...        0.0   \n",
      "3             0.0              0.0           0.0  ...        0.0   \n",
      "4             0.0              0.0           0.0  ...        0.0   \n",
      "5             0.0              0.0           0.0  ...        0.0   \n",
      "6             0.0              0.0           0.0  ...        0.0   \n",
      "7             0.0              0.0           0.0  ...        0.0   \n",
      "8             0.0              0.0           0.0  ...        0.0   \n",
      "9             0.0              0.0           0.0  ...        0.0   \n",
      "\n",
      "   would suggest  would tast  would tri  would use  would want  write review  \\\n",
      "0            0.0         0.0        0.0        0.0         0.0           0.0   \n",
      "1            0.0         0.0        0.0        0.0         0.0           0.0   \n",
      "2            0.0         0.0        0.0        0.0         0.0           0.0   \n",
      "3            0.0         0.0        0.0        0.0         0.0           0.0   \n",
      "4            0.0         0.0        0.0        0.0         0.0           0.0   \n",
      "5            0.0         0.0        0.0        0.0         0.0           0.0   \n",
      "6            0.0         0.0        0.0        0.0         0.0           0.0   \n",
      "7            0.0         0.0        0.0        0.0         0.0           0.0   \n",
      "8            0.0         0.0        0.0        0.0         0.0           0.0   \n",
      "9            0.0         0.0        0.0        0.0         0.0           0.0   \n",
      "\n",
      "   year ago  year old  yr old  \n",
      "0       0.0       0.0     0.0  \n",
      "1       0.0       0.0     0.0  \n",
      "2       0.0       0.0     0.0  \n",
      "3       0.0       0.0     0.0  \n",
      "4       0.0       0.0     0.0  \n",
      "5       0.0       0.0     0.0  \n",
      "6       0.0       0.0     0.0  \n",
      "7       0.0       0.0     0.0  \n",
      "8       0.0       0.0     0.0  \n",
      "9       0.0       0.0     0.0  \n",
      "\n",
      "[10 rows x 1000 columns]\n"
     ]
    }
   ],
   "source": [
    "# use TfidfVectorizer process the text data，generate the bigram TF-IDF\n",
    "vectorizer = TfidfVectorizer(lowercase=False, ngram_range=(2, 2), max_features=1000)\n",
    "\n",
    "X_tfidf_bi = vectorizer.fit_transform(df['Text_tokenized_str'])\n",
    "\n",
    "features = vectorizer.get_feature_names_out()\n",
    "\n",
    "print(f\"Shape of the sparse matrix: {X_tfidf_bi.shape}\")\n",
    "\n",
    "df_tfidf_bi = pd.DataFrame(X_tfidf_bi[:10].toarray(), columns=features)\n",
    "print(df_tfidf_bi)\n"
   ]
  },
  {
   "cell_type": "markdown",
   "metadata": {},
   "source": [
    "## Word2Vector Embedding"
   ]
  },
  {
   "cell_type": "code",
   "execution_count": 15,
   "metadata": {},
   "outputs": [],
   "source": [
    "from gensim.models import Word2Vec\n",
    "\n",
    "model = Word2Vec(sentences=df['Text_tokenized'], vector_size=100, window=5, min_count=1, workers=4)\n"
   ]
  },
  {
   "cell_type": "code",
   "execution_count": 16,
   "metadata": {},
   "outputs": [],
   "source": [
    "# Calculate the average word vector and return the vector representation of the sentence.\n",
    "def get_sentence_vector(sentence, model):\n",
    "    \n",
    "    word_vectors = [model.wv[word] for word in sentence if word in model.wv]\n",
    "    if len(word_vectors) > 0:\n",
    "        return np.mean(word_vectors, axis=0)\n",
    "    else:\n",
    "        return np.zeros(model.vector_size)"
   ]
  },
  {
   "cell_type": "code",
   "execution_count": 17,
   "metadata": {},
   "outputs": [
    {
     "name": "stdout",
     "output_type": "stream",
     "text": [
      "0    [0.047007628, 0.40292987, 0.48711735, -1.15422...\n",
      "1    [0.79744315, 0.30541733, -0.107364506, 0.39457...\n",
      "2    [0.11133962, 0.056830604, 0.010797399, 0.04223...\n",
      "3    [0.111473255, 1.4769424, -0.47606066, -0.02087...\n",
      "4    [-0.24291609, 1.1194139, 0.32810763, 0.8058364...\n",
      "Name: sentence_vector, dtype: object\n"
     ]
    }
   ],
   "source": [
    "# Generate the word vector\n",
    "df['sentence_vector'] = df['Text_tokenized'].apply(lambda x: get_sentence_vector(x, model))\n",
    "\n",
    "print(df['sentence_vector'].head())"
   ]
  },
  {
   "cell_type": "code",
   "execution_count": 18,
   "metadata": {},
   "outputs": [],
   "source": [
    "# save model for next time using\n",
    "model.save(\"word2vec.model\")"
   ]
  },
  {
   "cell_type": "code",
   "execution_count": 19,
   "metadata": {},
   "outputs": [],
   "source": [
    "model = Word2Vec.load(\"word2vec.model\")"
   ]
  },
  {
   "cell_type": "code",
   "execution_count": 20,
   "metadata": {},
   "outputs": [],
   "source": [
    "def get_sentence_vector(sentence, model):\n",
    "    \n",
    "    word_vectors = [model.wv[word] for word in sentence if word in model.wv]\n",
    "    if len(word_vectors) > 0:\n",
    "        return np.mean(word_vectors, axis=0)\n",
    "    else:\n",
    "        return np.zeros(model.vector_size)\n",
    "    \n",
    "df['sentence_vector'] = df['Text_tokenized'].apply(lambda x: get_sentence_vector(x, model))"
   ]
  },
  {
   "cell_type": "code",
   "execution_count": 21,
   "metadata": {},
   "outputs": [],
   "source": [
    "# transfer to list for training model \n",
    "X_Word2Vec = np.array(df['sentence_vector'].tolist())"
   ]
  },
  {
   "cell_type": "code",
   "execution_count": 22,
   "metadata": {},
   "outputs": [
    {
     "name": "stdout",
     "output_type": "stream",
     "text": [
      "[[ 0.04700763  0.40292987  0.48711735 ...  0.49687335 -0.04123748\n",
      "   0.3899353 ]\n",
      " [ 0.79744315  0.30541733 -0.10736451 ...  0.86148727 -0.7644832\n",
      "   0.41644308]\n",
      " [ 0.11133962  0.0568306   0.0107974  ...  0.1536799  -0.07690418\n",
      "   0.18030217]\n",
      " ...\n",
      " [-0.04183599  0.39250892 -0.20651934 ...  0.69792986  0.7323988\n",
      "   0.52065563]\n",
      " [-0.06816664 -0.24107128 -0.21984607 ...  0.6102452   0.4848975\n",
      "   0.1826047 ]\n",
      " [ 0.48092216  0.8885812  -0.14282769 ...  0.06213889 -0.27369344\n",
      "  -0.35460007]]\n"
     ]
    }
   ],
   "source": [
    "print(X_Word2Vec)"
   ]
  },
  {
   "cell_type": "code",
   "execution_count": null,
   "metadata": {},
   "outputs": [],
   "source": []
  },
  {
   "cell_type": "markdown",
   "metadata": {},
   "source": [
    "# Model Building"
   ]
  },
  {
   "cell_type": "code",
   "execution_count": 23,
   "metadata": {},
   "outputs": [],
   "source": [
    "from sklearn.linear_model import LogisticRegression\n",
    "from sklearn.metrics import accuracy_score, classification_report, roc_curve, auc\n",
    "from sklearn.ensemble import RandomForestClassifier\n",
    "from sklearn.model_selection import train_test_split\n",
    "from sklearn.preprocessing import LabelEncoder, StandardScaler\n",
    "import matplotlib.pyplot as plt"
   ]
  },
  {
   "cell_type": "markdown",
   "metadata": {},
   "source": [
    "## Logistic Regression"
   ]
  },
  {
   "cell_type": "markdown",
   "metadata": {},
   "source": [
    "### Unigram"
   ]
  },
  {
   "cell_type": "code",
   "execution_count": 24,
   "metadata": {},
   "outputs": [],
   "source": [
    "# Function to train, evaluate, and plot ROC curve for logistic regression\n",
    "def train_evaluate_plot(X, y, dataset_name):\n",
    "    # Split the data into train, validation, and test sets\n",
    "    X_train_val, X_test, y_train_val, y_test = train_test_split(X, y, test_size=0.2, random_state=42)\n",
    "    X_train, X_val, y_train, y_val = train_test_split(X_train_val, y_train_val, test_size=0.25, random_state=42)\n",
    "    \n",
    "    # Train the logistic regression model with 1000 iterations\n",
    "    model = LogisticRegression(max_iter=1000)\n",
    "    model.fit(X_train, y_train)\n",
    "    \n",
    "    # Predict and evaluate on the validation set\n",
    "    y_pred = model.predict(X_val)\n",
    "    accuracy = accuracy_score(y_val, y_pred)\n",
    "    \n",
    "    print(f'Logistic Regression Accuracy on {dataset_name}: {accuracy:.2f}')\n",
    "    print(classification_report(y_val, y_pred))\n",
    "    print('-' * 50)\n",
    "    \n",
    "    # Encode the test labels for ROC-AUC computation\n",
    "    label_encoder = LabelEncoder()\n",
    "    y_test_encoded = label_encoder.fit_transform(y_test) \n",
    "    \n",
    "    # Predict probabilities for the test set\n",
    "    y_probs = model.predict_proba(X_test)[:, 1]\n",
    "    \n",
    "    # Compute ROC curve and ROC area\n",
    "    fpr, tpr, thresholds = roc_curve(y_test_encoded, y_probs)\n",
    "    roc_auc = auc(fpr, tpr)\n",
    "    \n",
    "    print(f\"Logistic Regression AUC on {dataset_name}: {roc_auc:.2f}\")\n",
    "    \n",
    "    # Plot ROC curve\n",
    "    plt.figure()\n",
    "    plt.plot(fpr, tpr, color='darkorange', lw=2, label=f'ROC curve (area = {roc_auc:.2f})')\n",
    "    plt.plot([0, 1], [0, 1], color='navy', lw=2, linestyle='--')\n",
    "    plt.xlim([0.0, 1.0])\n",
    "    plt.ylim([0.0, 1.05])\n",
    "    plt.xlabel('False Positive Rate')\n",
    "    plt.ylabel('True Positive Rate')\n",
    "    plt.title(f'ROC Curve for {dataset_name}')\n",
    "    plt.legend(loc='lower right')\n",
    "    plt.show()"
   ]
  },
  {
   "cell_type": "code",
   "execution_count": 25,
   "metadata": {
    "scrolled": false
   },
   "outputs": [
    {
     "name": "stdout",
     "output_type": "stream",
     "text": [
      "Logistic Regression Accuracy on Unigram: 0.87\n",
      "              precision    recall  f1-score   support\n",
      "\n",
      "    negative       0.77      0.55      0.65     24873\n",
      "    positive       0.88      0.95      0.92     88813\n",
      "\n",
      "    accuracy                           0.87    113686\n",
      "   macro avg       0.83      0.75      0.78    113686\n",
      "weighted avg       0.86      0.87      0.86    113686\n",
      "\n",
      "--------------------------------------------------\n",
      "Logistic Regression AUC on Unigram: 0.90\n"
     ]
    },
    {
     "data": {
      "image/png": "[encoded data removed]",
      "text/plain": [
       "<Figure size 640x480 with 1 Axes>"
      ]
     },
     "metadata": {},
     "output_type": "display_data"
    },
    {
     "name": "stdout",
     "output_type": "stream",
     "text": [
      "Logistic Regression Accuracy on Bigram: 0.81\n",
      "              precision    recall  f1-score   support\n",
      "\n",
      "    negative       0.69      0.25      0.37     24873\n",
      "    positive       0.82      0.97      0.89     88813\n",
      "\n",
      "    accuracy                           0.81    113686\n",
      "   macro avg       0.76      0.61      0.63    113686\n",
      "weighted avg       0.79      0.81      0.78    113686\n",
      "\n",
      "--------------------------------------------------\n",
      "Logistic Regression AUC on Bigram: 0.80\n"
     ]
    },
    {
     "data": {
      "image/png": "[encoded data removed]",
      "text/plain": [
       "<Figure size 640x480 with 1 Axes>"
      ]
     },
     "metadata": {},
     "output_type": "display_data"
    },
    {
     "name": "stdout",
     "output_type": "stream",
     "text": [
      "Logistic Regression Accuracy on TF-IDF Unigram: 0.87\n",
      "              precision    recall  f1-score   support\n",
      "\n",
      "    negative       0.76      0.59      0.66     24873\n",
      "    positive       0.89      0.95      0.92     88813\n",
      "\n",
      "    accuracy                           0.87    113686\n",
      "   macro avg       0.83      0.77      0.79    113686\n",
      "weighted avg       0.86      0.87      0.86    113686\n",
      "\n",
      "--------------------------------------------------\n",
      "Logistic Regression AUC on TF-IDF Unigram: 0.91\n"
     ]
    },
    {
     "data": {
      "image/png": "[encoded data removed]",
      "text/plain": [
       "<Figure size 640x480 with 1 Axes>"
      ]
     },
     "metadata": {},
     "output_type": "display_data"
    },
    {
     "name": "stdout",
     "output_type": "stream",
     "text": [
      "Logistic Regression Accuracy on TF-IDF Bigram: 0.81\n",
      "              precision    recall  f1-score   support\n",
      "\n",
      "    negative       0.66      0.28      0.39     24873\n",
      "    positive       0.83      0.96      0.89     88813\n",
      "\n",
      "    accuracy                           0.81    113686\n",
      "   macro avg       0.74      0.62      0.64    113686\n",
      "weighted avg       0.79      0.81      0.78    113686\n",
      "\n",
      "--------------------------------------------------\n",
      "Logistic Regression AUC on TF-IDF Bigram: 0.80\n"
     ]
    },
    {
     "data": {
      "image/png": "[encoded data removed]",
      "text/plain": [
       "<Figure size 640x480 with 1 Axes>"
      ]
     },
     "metadata": {},
     "output_type": "display_data"
    },
    {
     "name": "stdout",
     "output_type": "stream",
     "text": [
      "Logistic Regression Accuracy on Word2Vec: 0.86\n",
      "              precision    recall  f1-score   support\n",
      "\n",
      "    negative       0.75      0.56      0.64     24873\n",
      "    positive       0.88      0.95      0.91     88813\n",
      "\n",
      "    accuracy                           0.86    113686\n",
      "   macro avg       0.82      0.75      0.78    113686\n",
      "weighted avg       0.85      0.86      0.85    113686\n",
      "\n",
      "--------------------------------------------------\n",
      "Logistic Regression AUC on Word2Vec: 0.90\n"
     ]
    },
    {
     "data": {
      "image/png": "[encoded data removed]",
      "text/plain": [
       "<Figure size 640x480 with 1 Axes>"
      ]
     },
     "metadata": {},
     "output_type": "display_data"
    }
   ],
   "source": [
    "# Prepare the target variable\n",
    "y = df['Sentiment']\n",
    "\n",
    "# Train and evaluate using different datasets\n",
    "train_evaluate_plot(X_unigram, y, \"Unigram\")\n",
    "train_evaluate_plot(X_bigram, y, \"Bigram\")\n",
    "train_evaluate_plot(X_tfidf_uni, y, \"TF-IDF Unigram\")\n",
    "train_evaluate_plot(X_tfidf_bi, y, \"TF-IDF Bigram\")\n",
    "train_evaluate_plot(X_Word2Vec, y, \"Word2Vec\")"
   ]
  },
  {
   "cell_type": "code",
   "execution_count": null,
   "metadata": {},
   "outputs": [],
   "source": []
  },
  {
   "cell_type": "markdown",
   "metadata": {},
   "source": [
    "## Random Forest"
   ]
  },
  {
   "cell_type": "code",
   "execution_count": 26,
   "metadata": {},
   "outputs": [],
   "source": [
    "# Function to train, evaluate, and plot ROC curve\n",
    "def train_rf_evaluate_plot(X, y, dataset_name):\n",
    "    X_train_val, X_test, y_train_val, y_test = train_test_split(X, y, test_size=0.2, random_state=42)\n",
    "    X_train, X_val, y_train, y_val = train_test_split(X_train_val, y_train_val, test_size=0.25, random_state=42)\n",
    "    \n",
    "    model = RandomForestClassifier(n_estimators=5, random_state=42)\n",
    "    model.fit(X_train, y_train)\n",
    "    \n",
    "    y_pred = model.predict(X_val)\n",
    "    accuracy = accuracy_score(y_val, y_pred)\n",
    "    \n",
    "    print(f'Random Forest Accuracy on {dataset_name}: {accuracy:.2f}')\n",
    "    print(classification_report(y_val, y_pred))\n",
    "    print('-' * 50)\n",
    "    \n",
    "    # Encode the test labels for ROC-AUC computation\n",
    "    label_encoder = LabelEncoder()\n",
    "    y_test_encoded = label_encoder.fit_transform(y_test) \n",
    "    \n",
    "    # Predict probabilities for the test set\n",
    "    y_probs = model.predict_proba(X_test)[:, 1]\n",
    "    \n",
    "    # Compute ROC curve and ROC area\n",
    "    fpr, tpr, thresholds = roc_curve(y_test_encoded, y_probs)\n",
    "    roc_auc = auc(fpr, tpr)\n",
    "    \n",
    "    print(f\"Random Forest AUC on {dataset_name}: {roc_auc:.2f}\")\n",
    "    \n",
    "    # Plot ROC curve\n",
    "    plt.figure()\n",
    "    plt.plot(fpr, tpr, color='darkorange', lw=2, label=f'ROC curve (area = {roc_auc:.2f})')\n",
    "    plt.plot([0, 1], [0, 1], color='navy', lw=2, linestyle='--')\n",
    "    plt.xlim([0.0, 1.0])\n",
    "    plt.ylim([0.0, 1.05])\n",
    "    plt.xlabel('False Positive Rate')\n",
    "    plt.ylabel('True Positive Rate')\n",
    "    plt.title(f'ROC Curve for {dataset_name}')\n",
    "    plt.legend(loc='lower right')\n",
    "    plt.show()"
   ]
  },
  {
   "cell_type": "code",
   "execution_count": 27,
   "metadata": {
    "scrolled": true
   },
   "outputs": [
    {
     "name": "stdout",
     "output_type": "stream",
     "text": [
      "Random Forest Accuracy on Unigram: 0.88\n",
      "              precision    recall  f1-score   support\n",
      "\n",
      "    negative       0.78      0.64      0.70     24873\n",
      "    positive       0.90      0.95      0.93     88813\n",
      "\n",
      "    accuracy                           0.88    113686\n",
      "   macro avg       0.84      0.80      0.82    113686\n",
      "weighted avg       0.88      0.88      0.88    113686\n",
      "\n",
      "--------------------------------------------------\n",
      "Random Forest AUC on Unigram: 0.90\n"
     ]
    },
    {
     "data": {
      "image/png": "[encoded data removed]",
      "text/plain": [
       "<Figure size 640x480 with 1 Axes>"
      ]
     },
     "metadata": {},
     "output_type": "display_data"
    },
    {
     "name": "stdout",
     "output_type": "stream",
     "text": [
      "Random Forest Accuracy on Bigram: 0.84\n",
      "              precision    recall  f1-score   support\n",
      "\n",
      "    negative       0.67      0.49      0.56     24873\n",
      "    positive       0.87      0.93      0.90     88813\n",
      "\n",
      "    accuracy                           0.84    113686\n",
      "   macro avg       0.77      0.71      0.73    113686\n",
      "weighted avg       0.82      0.84      0.83    113686\n",
      "\n",
      "--------------------------------------------------\n",
      "Random Forest AUC on Bigram: 0.84\n"
     ]
    },
    {
     "data": {
      "image/png": "[encoded data removed]",
      "text/plain": [
       "<Figure size 640x480 with 1 Axes>"
      ]
     },
     "metadata": {},
     "output_type": "display_data"
    },
    {
     "name": "stdout",
     "output_type": "stream",
     "text": [
      "Random Forest Accuracy on TF-IDF Unigram: 0.89\n",
      "              precision    recall  f1-score   support\n",
      "\n",
      "    negative       0.80      0.63      0.71     24873\n",
      "    positive       0.90      0.96      0.93     88813\n",
      "\n",
      "    accuracy                           0.89    113686\n",
      "   macro avg       0.85      0.79      0.82    113686\n",
      "weighted avg       0.88      0.89      0.88    113686\n",
      "\n",
      "--------------------------------------------------\n",
      "Random Forest AUC on TF-IDF Unigram: 0.90\n"
     ]
    },
    {
     "data": {
      "image/png": "[encoded data removed]",
      "text/plain": [
       "<Figure size 640x480 with 1 Axes>"
      ]
     },
     "metadata": {},
     "output_type": "display_data"
    },
    {
     "name": "stdout",
     "output_type": "stream",
     "text": [
      "Random Forest Accuracy on TF-IDF Bigram: 0.84\n",
      "              precision    recall  f1-score   support\n",
      "\n",
      "    negative       0.72      0.45      0.55     24873\n",
      "    positive       0.86      0.95      0.90     88813\n",
      "\n",
      "    accuracy                           0.84    113686\n",
      "   macro avg       0.79      0.70      0.73    113686\n",
      "weighted avg       0.83      0.84      0.83    113686\n",
      "\n",
      "--------------------------------------------------\n",
      "Random Forest AUC on TF-IDF Bigram: 0.83\n"
     ]
    },
    {
     "data": {
      "image/png": "[encoded data removed]",
      "text/plain": [
       "<Figure size 640x480 with 1 Axes>"
      ]
     },
     "metadata": {},
     "output_type": "display_data"
    },
    {
     "name": "stdout",
     "output_type": "stream",
     "text": [
      "Random Forest Accuracy on Word2Vec: 0.88\n",
      "              precision    recall  f1-score   support\n",
      "\n",
      "    negative       0.77      0.62      0.68     24873\n",
      "    positive       0.90      0.95      0.92     88813\n",
      "\n",
      "    accuracy                           0.88    113686\n",
      "   macro avg       0.83      0.78      0.80    113686\n",
      "weighted avg       0.87      0.88      0.87    113686\n",
      "\n",
      "--------------------------------------------------\n",
      "Random Forest AUC on Word2Vec: 0.89\n"
     ]
    },
    {
     "data": {
      "image/png": "[encoded data removed]",
      "text/plain": [
       "<Figure size 640x480 with 1 Axes>"
      ]
     },
     "metadata": {},
     "output_type": "display_data"
    }
   ],
   "source": [
    "# Train and evaluate using different datasets\n",
    "train_rf_evaluate_plot(X_unigram, y, \"Unigram\")\n",
    "train_rf_evaluate_plot(X_bigram, y, \"Bigram\")\n",
    "train_rf_evaluate_plot(X_tfidf_uni, y, \"TF-IDF Unigram\")\n",
    "train_rf_evaluate_plot(X_tfidf_bi, y, \"TF-IDF Bigram\")\n",
    "train_rf_evaluate_plot(X_Word2Vec, y, \"Word2Vec\")"
   ]
  },
  {
   "cell_type": "markdown",
   "metadata": {},
   "source": [
    "The results show that under Logistic regression and Random Forest, Unigram achieved high accuracy (0.89) and AUC (0.93), indicating that it is one of the best performing methods in sentiment analysis tests. In comparison, Bigram performs poorly with an accuracy of 0.83 and lower recall for negative categories, indicating that they are less effective at capturing sentiment compared to Unigram. However, this may be due to the fact that I limited the number of Bigram features to 2000, causing Bigram to be unable to fully obtain all features. The Word2Vec model performed moderately, with an accuracy of 0.86 and an AUC of 0.90, making it a viable alternative, but not as powerful as the Unigram method."
   ]
  },
  {
   "cell_type": "markdown",
   "metadata": {},
   "source": [
    "Logistic regression and random forest models achieved the same accuracy of 88% based on Unigram. The precision, recall, and F1 scores of the two models are very similar. In terms of predicting positive classes, both models exhibit high recall (96%) and F1 score (0.93). When it comes to predicting negative classes, both models have relatively poor recall (63%) and F1 score (0.70). This may be due to underrepresentation of negative data in the data set.\n",
    "\n",
    "In terms of AUC, the logistic regression model has a slightly higher AUC (0.92) compared to the random forest (0.90), indicating that logistic regression may be slightly better at distinguishing positive and negative classes. There are subtle differences between these two models, and both perform very well on Unigram."
   ]
  },
  {
   "cell_type": "markdown",
   "metadata": {},
   "source": [
    "### Importance Features"
   ]
  },
  {
   "cell_type": "code",
   "execution_count": 28,
   "metadata": {
    "scrolled": true
   },
   "outputs": [
    {
     "name": "stderr",
     "output_type": "stream",
     "text": [
      "/home/adduser/anaconda3/lib/python3.9/site-packages/sklearn/feature_extraction/text.py:525: UserWarning: The parameter 'token_pattern' will not be used since 'tokenizer' is not None'\n",
      "  warnings.warn(\n"
     ]
    },
    {
     "name": "stdout",
     "output_type": "stream",
     "text": [
      "Top 10 important features for Unigram:\n",
      "         Feature  Importance\n",
      "2009       great    0.014440\n",
      "1322  disappoint    0.011257\n",
      "2631        love    0.011175\n",
      "4931       would    0.009009\n",
      "4399        tast    0.007233\n",
      "4825        wast    0.007210\n",
      "472         best    0.007180\n",
      "4445     terribl    0.006178\n",
      "3691      return    0.006059\n",
      "1242      delici    0.005957\n"
     ]
    },
    {
     "data": {
      "image/png": "[encoded data removed]",
      "text/plain": [
       "<Figure size 1000x600 with 1 Axes>"
      ]
     },
     "metadata": {},
     "output_type": "display_data"
    }
   ],
   "source": [
    "#prepare for feature importance\n",
    "vectorizer = CountVectorizer(tokenizer=lambda x: x, lowercase=False, max_features=5000)  \n",
    "X_unigram = vectorizer.fit_transform(df['Text_tokenized'])\n",
    "features = vectorizer.get_feature_names_out() \n",
    "\n",
    "X_train_val, X_test, y_train_val, y_test = train_test_split(X_unigram, y, test_size=0.2, random_state=42)\n",
    "X_train, X_val, y_train, y_val = train_test_split(X_train_val, y_train_val, test_size=0.25, random_state=42)\n",
    "\n",
    "model = RandomForestClassifier(n_estimators=5, random_state=42)\n",
    "model.fit(X_train, y_train)\n",
    "\n",
    "# Feature importance analysis\n",
    "feature_importances = model.feature_importances_\n",
    "\n",
    "# Create a DataFrame to display the feature importances\n",
    "importance_df = pd.DataFrame({\n",
    "    'Feature': features,\n",
    "    'Importance': feature_importances\n",
    "})\n",
    "\n",
    "# Sort by importance\n",
    "importance_df = importance_df.sort_values(by='Importance', ascending=False)\n",
    "\n",
    "# Display the top 10 features\n",
    "print(f'Top 10 important features for Unigram:')\n",
    "print(importance_df.head(10))\n",
    "\n",
    "# Plot the top 10 important features\n",
    "plt.figure(figsize=(10, 6))\n",
    "plt.barh(importance_df['Feature'].head(10), importance_df['Importance'].head(10), color='skyblue')\n",
    "plt.xlabel('Importance')\n",
    "plt.title(f'Top 10 Important Features for Unigram')\n",
    "plt.gca().invert_yaxis()  \n",
    "plt.show()"
   ]
  },
  {
   "cell_type": "markdown",
   "metadata": {},
   "source": [
    "The top 10 important features from Unigram reveal which words contribute the most to the classification decision made by the model. Positive sentiment is strongly influenced by words such as “great,” “love,” “best,” and “delici” (delicious), which are associated with high importance scores, indicating that they strongly indicate positive comments. Instead, negative sentiment is captured by words such as “disappoint,” “wast,” “terribl,” “return,” and “tast,” reflecting their strong association with negative reviews. ."
   ]
  },
  {
   "cell_type": "code",
   "execution_count": 29,
   "metadata": {},
   "outputs": [
    {
     "name": "stderr",
     "output_type": "stream",
     "text": [
      "/home/adduser/anaconda3/lib/python3.9/site-packages/sklearn/feature_extraction/text.py:525: UserWarning: The parameter 'token_pattern' will not be used since 'tokenizer' is not None'\n",
      "  warnings.warn(\n"
     ]
    },
    {
     "name": "stdout",
     "output_type": "stream",
     "text": [
      "Top 10 important features for Bigram:\n",
      "               Feature  Importance\n",
      "2843        wast money    0.011724\n",
      "2914            wo buy    0.007551\n",
      "1310  highli recommend    0.007028\n",
      "2496         tast like    0.006464\n",
      "47              3 star    0.005610\n",
      "1776         never buy    0.004085\n",
      "2491         tast good    0.003605\n",
      "29              2 star    0.003451\n",
      "1643        made china    0.003341\n",
      "2615     thought would    0.002977\n"
     ]
    },
    {
     "data": {
      "image/png": "[encoded data removed]",
      "text/plain": [
       "<Figure size 1000x600 with 1 Axes>"
      ]
     },
     "metadata": {},
     "output_type": "display_data"
    }
   ],
   "source": [
    "#prepare for feature importance\n",
    "vectorizer = CountVectorizer(tokenizer=lambda x: x, lowercase=False, ngram_range=(2, 2), max_features=3000)  \n",
    "X_bigram = vectorizer.fit_transform(df['Text_tokenized'])\n",
    "features = vectorizer.get_feature_names_out()\n",
    "\n",
    "# Split the data into train, validation, and test sets\n",
    "X_train_val, X_test, y_train_val, y_test = train_test_split(X_bigram, y, test_size=0.2, random_state=42)\n",
    "X_train, X_val, y_train, y_val = train_test_split(X_train_val, y_train_val, test_size=0.25, random_state=42)\n",
    "\n",
    "# Train the random forest model with 5 trees\n",
    "model = RandomForestClassifier(n_estimators=5, random_state=42)\n",
    "model.fit(X_train, y_train)\n",
    "\n",
    "# Feature importance analysis\n",
    "feature_importances = model.feature_importances_\n",
    "\n",
    "# Create a DataFrame to display the feature importances\n",
    "importance_df = pd.DataFrame({\n",
    "    'Feature': features,\n",
    "    'Importance': feature_importances\n",
    "})\n",
    "\n",
    "# Sort by importance\n",
    "importance_df = importance_df.sort_values(by='Importance', ascending=False)\n",
    "\n",
    "# Display the top 10 features\n",
    "print(f'Top 10 important features for Bigram:')\n",
    "print(importance_df.head(10))\n",
    "\n",
    "# Plot the top 10 important features\n",
    "plt.figure(figsize=(10, 6))\n",
    "plt.barh(importance_df['Feature'].head(10), importance_df['Importance'].head(10), color='skyblue')\n",
    "plt.xlabel('Importance')\n",
    "plt.title(f'Top 10 Important Features for Unigram')\n",
    "plt.gca().invert_yaxis() \n",
    "plt.show()"
   ]
  },
  {
   "cell_type": "markdown",
   "metadata": {},
   "source": [
    "Top 10 important features of Bigram. Negative emotions are closely related to phrases such as \"wast money\", \"wo buy\" (won't buy), and \"never buy\". The word \"highly recommend\" reflects recognition and satisfaction. Including specific ratings such as \"3 star\" and \"2 star\" will also affect the model's predictions. Overall, we can understand from the above results which specific words can affect the model."
   ]
  },
  {
   "cell_type": "markdown",
   "metadata": {},
   "source": [
    "### Save and Load model"
   ]
  },
  {
   "cell_type": "code",
   "execution_count": 30,
   "metadata": {},
   "outputs": [
    {
     "name": "stderr",
     "output_type": "stream",
     "text": [
      "/home/adduser/anaconda3/lib/python3.9/site-packages/sklearn/feature_extraction/text.py:525: UserWarning: The parameter 'token_pattern' will not be used since 'tokenizer' is not None'\n",
      "  warnings.warn(\n"
     ]
    },
    {
     "data": {
      "text/html": [
       "<style>#sk-container-id-1 {color: black;}#sk-container-id-1 pre{padding: 0;}#sk-container-id-1 div.sk-toggleable {background-color: white;}#sk-container-id-1 label.sk-toggleable__label {cursor: pointer;display: block;width: 100%;margin-bottom: 0;padding: 0.3em;box-sizing: border-box;text-align: center;}#sk-container-id-1 label.sk-toggleable__label-arrow:before {content: \"▸\";float: left;margin-right: 0.25em;color: #696969;}#sk-container-id-1 label.sk-toggleable__label-arrow:hover:before {color: black;}#sk-container-id-1 div.sk-estimator:hover label.sk-toggleable__label-arrow:before {color: black;}#sk-container-id-1 div.sk-toggleable__content {max-height: 0;max-width: 0;overflow: hidden;text-align: left;background-color: #f0f8ff;}#sk-container-id-1 div.sk-toggleable__content pre {margin: 0.2em;color: black;border-radius: 0.25em;background-color: #f0f8ff;}#sk-container-id-1 input.sk-toggleable__control:checked~div.sk-toggleable__content {max-height: 200px;max-width: 100%;overflow: auto;}#sk-container-id-1 input.sk-toggleable__control:checked~label.sk-toggleable__label-arrow:before {content: \"▾\";}#sk-container-id-1 div.sk-estimator input.sk-toggleable__control:checked~label.sk-toggleable__label {background-color: #d4ebff;}#sk-container-id-1 div.sk-label input.sk-toggleable__control:checked~label.sk-toggleable__label {background-color: #d4ebff;}#sk-container-id-1 input.sk-hidden--visually {border: 0;clip: rect(1px 1px 1px 1px);clip: rect(1px, 1px, 1px, 1px);height: 1px;margin: -1px;overflow: hidden;padding: 0;position: absolute;width: 1px;}#sk-container-id-1 div.sk-estimator {font-family: monospace;background-color: #f0f8ff;border: 1px dotted black;border-radius: 0.25em;box-sizing: border-box;margin-bottom: 0.5em;}#sk-container-id-1 div.sk-estimator:hover {background-color: #d4ebff;}#sk-container-id-1 div.sk-parallel-item::after {content: \"\";width: 100%;border-bottom: 1px solid gray;flex-grow: 1;}#sk-container-id-1 div.sk-label:hover label.sk-toggleable__label {background-color: #d4ebff;}#sk-container-id-1 div.sk-serial::before {content: \"\";position: absolute;border-left: 1px solid gray;box-sizing: border-box;top: 0;bottom: 0;left: 50%;z-index: 0;}#sk-container-id-1 div.sk-serial {display: flex;flex-direction: column;align-items: center;background-color: white;padding-right: 0.2em;padding-left: 0.2em;position: relative;}#sk-container-id-1 div.sk-item {position: relative;z-index: 1;}#sk-container-id-1 div.sk-parallel {display: flex;align-items: stretch;justify-content: center;background-color: white;position: relative;}#sk-container-id-1 div.sk-item::before, #sk-container-id-1 div.sk-parallel-item::before {content: \"\";position: absolute;border-left: 1px solid gray;box-sizing: border-box;top: 0;bottom: 0;left: 50%;z-index: -1;}#sk-container-id-1 div.sk-parallel-item {display: flex;flex-direction: column;z-index: 1;position: relative;background-color: white;}#sk-container-id-1 div.sk-parallel-item:first-child::after {align-self: flex-end;width: 50%;}#sk-container-id-1 div.sk-parallel-item:last-child::after {align-self: flex-start;width: 50%;}#sk-container-id-1 div.sk-parallel-item:only-child::after {width: 0;}#sk-container-id-1 div.sk-dashed-wrapped {border: 1px dashed gray;margin: 0 0.4em 0.5em 0.4em;box-sizing: border-box;padding-bottom: 0.4em;background-color: white;}#sk-container-id-1 div.sk-label label {font-family: monospace;font-weight: bold;display: inline-block;line-height: 1.2em;}#sk-container-id-1 div.sk-label-container {text-align: center;}#sk-container-id-1 div.sk-container {/* jupyter's `normalize.less` sets `[hidden] { display: none; }` but bootstrap.min.css set `[hidden] { display: none !important; }` so we also need the `!important` here to be able to override the default hidden behavior on the sphinx rendered scikit-learn.org. See: https://github.com/scikit-learn/scikit-learn/issues/21755 */display: inline-block !important;position: relative;}#sk-container-id-1 div.sk-text-repr-fallback {display: none;}</style><div id=\"sk-container-id-1\" class=\"sk-top-container\"><div class=\"sk-text-repr-fallback\"><pre>RandomForestClassifier(n_estimators=5, random_state=42)</pre><b>In a Jupyter environment, please rerun this cell to show the HTML representation or trust the notebook. <br />On GitHub, the HTML representation is unable to render, please try loading this page with nbviewer.org.</b></div><div class=\"sk-container\" hidden><div class=\"sk-item\"><div class=\"sk-estimator sk-toggleable\"><input class=\"sk-toggleable__control sk-hidden--visually\" id=\"sk-estimator-id-1\" type=\"checkbox\" checked><label for=\"sk-estimator-id-1\" class=\"sk-toggleable__label sk-toggleable__label-arrow\">RandomForestClassifier</label><div class=\"sk-toggleable__content\"><pre>RandomForestClassifier(n_estimators=5, random_state=42)</pre></div></div></div></div></div>"
      ],
      "text/plain": [
       "RandomForestClassifier(n_estimators=5, random_state=42)"
      ]
     },
     "execution_count": 30,
     "metadata": {},
     "output_type": "execute_result"
    }
   ],
   "source": [
    "#prepare for feature importance\n",
    "vectorizer = CountVectorizer(tokenizer=lambda x: x, lowercase=False, max_features=5000)  \n",
    "X_unigram = vectorizer.fit_transform(df['Text_tokenized'])\n",
    "features = vectorizer.get_feature_names_out() \n",
    "\n",
    "X_train_val, X_test, y_train_val, y_test = train_test_split(X_unigram, y, test_size=0.2, random_state=42)\n",
    "X_train, X_val, y_train, y_val = train_test_split(X_train_val, y_train_val, test_size=0.25, random_state=42)\n",
    "\n",
    "model = RandomForestClassifier(n_estimators=5, random_state=42)\n",
    "model.fit(X_train, y_train)"
   ]
  },
  {
   "cell_type": "code",
   "execution_count": 31,
   "metadata": {},
   "outputs": [
    {
     "data": {
      "text/plain": [
       "['random_forest_model.pkl']"
      ]
     },
     "execution_count": 31,
     "metadata": {},
     "output_type": "execute_result"
    }
   ],
   "source": [
    "import joblib\n",
    "\n",
    "# Save the trained model to a file\n",
    "joblib.dump(model, 'random_forest_model.pkl')"
   ]
  },
  {
   "cell_type": "code",
   "execution_count": 32,
   "metadata": {},
   "outputs": [
    {
     "name": "stdout",
     "output_type": "stream",
     "text": [
      "0.6866544693277976\n"
     ]
    }
   ],
   "source": [
    "# Load the model from the file\n",
    "model = joblib.load('random_forest_model.pkl')\n",
    "\n",
    "y_pred = model.predict(X_test)\n",
    "\n",
    "accuracy = accuracy_score(y_val, y_pred)\n",
    "print(accuracy)"
   ]
  },
  {
   "cell_type": "code",
   "execution_count": null,
   "metadata": {},
   "outputs": [],
   "source": []
  }
 ],
 "metadata": {
  "colab": {
   "collapsed_sections": [],
   "name": "project1_amazon_review_template.ipynb",
   "provenance": []
  },
  "kernelspec": {
   "display_name": "Python 3 (ipykernel)",
   "language": "python",
   "name": "python3"
  },
  "language_info": {
   "codemirror_mode": {
    "name": "ipython",
    "version": 3
   },
   "file_extension": ".py",
   "mimetype": "text/x-python",
   "name": "python",
   "nbconvert_exporter": "python",
   "pygments_lexer": "ipython3",
   "version": "3.9.18"
  }
 },
 "nbformat": 4,
 "nbformat_minor": 1
}
